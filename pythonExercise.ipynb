{
 "cells": [
  {
   "cell_type": "markdown",
   "metadata": {},
   "source": [
    " Q&A 1. Write a program that uses input to prompt a user for their name and then welcomes them."
   ]
  },
  {
   "cell_type": "code",
   "execution_count": 2,
   "metadata": {},
   "outputs": [
    {
     "name": "stdout",
     "output_type": "stream",
     "text": [
      "Please enter your name: thoa\n",
      "Hello Thoa!\n",
      "Please enter your name: q\n"
     ]
    }
   ],
   "source": [
    "# a starts with while True: will run forever unless it reaches a break statement.\n",
    "# you could use break to quit a for loop that's working through a list or a dictionary.\n",
    "prompt = \"\\nPlease enter your name: \"\n",
    "prompt += \"\\nEnter 'q' when you are finished. \"\n",
    "while True:\n",
    "    name = input('Please enter your name: ')\n",
    "    if name == 'q':\n",
    "        break\n",
    "    else:\n",
    "        print(f\"Hello {name.title()}!\")"
   ]
  },
  {
   "cell_type": "markdown",
   "metadata": {},
   "source": [
    "Q&A 2. Write a program to prompt the user for hours and rate per hour to compute gross pay."
   ]
  },
  {
   "cell_type": "code",
   "execution_count": 4,
   "metadata": {},
   "outputs": [
    {
     "name": "stdout",
     "output_type": "stream",
     "text": [
      "Please enter your worked hours: 10\n",
      "Please enter your worked hour rate: q\n"
     ]
    }
   ],
   "source": [
    "prompt1 = \"\\nPlease enter your hours: \"\n",
    "prompt1 += \"\\nEnter 'q' when you are finished.\"\n",
    "prompt2 = \"\\nPlease enter rate/hour: \"\n",
    "prompt2 += \"\\nEnter 'q' when you are finished.\"\n",
    "while True:\n",
    "    hours = input('Please enter your worked hours: ' )\n",
    "    if hours == 'q':\n",
    "        break\n",
    "    rate_per_hour = input('Please enter your worked hour rate: ')\n",
    "    if rate_per_hour == 'q':\n",
    "        break\n",
    "    gross_pay = float(hours) * float(rate_per_hour)\n",
    "    print(f\"This is your gross pay: ${gross_pay}!\")"
   ]
  },
  {
   "cell_type": "markdown",
   "metadata": {},
   "source": [
    "Q&A 3. Assume that we execute the following assignment statements: width = 14, height = 8. For each of the following expressions, write the value of the expression and the type (of the value of the expression).\n",
    "a) width//2 b) width/2.0 c) height/3 d) 1 + 2 * 5"
   ]
  },
  {
   "cell_type": "code",
   "execution_count": 3,
   "metadata": {
    "scrolled": true
   },
   "outputs": [
    {
     "name": "stdout",
     "output_type": "stream",
     "text": [
      "1. 7 is the result of width//2, and its type is <class 'int'>\n",
      "2. 7.0 is the result of width/2, and its type is <class 'float'>\n",
      "3. 2.67 is the result of height/3, and its type is <class 'float'>\n",
      "4. 11 is the result of 1 + 2 * 5, and its type is <class 'int'>\n"
     ]
    }
   ],
   "source": [
    "width = 14\n",
    "height = 8\n",
    "a = width//2\n",
    "print(f\"1. {a} is the result of width//2, and its type is {type(a)}\")\n",
    "b = width/2\n",
    "print(f\"2. {b} is the result of width/2, and its type is {type(b)}\")\n",
    "c = height/3\n",
    "c = round(c,2)\n",
    "print(f\"3. {c} is the result of height/3, and its type is {type(c)}\")\n",
    "d =  1 + 2 * 5\n",
    "print(f\"4. {d} is the result of 1 + 2 * 5, and its type is {type(d)}\")"
   ]
  },
  {
   "cell_type": "markdown",
   "metadata": {},
   "source": [
    "Q&A 4. Write a program which prompts the user for a Celsius temperature, convert the temperature to Fahrenheit, and print out the convertd temperature."
   ]
  },
  {
   "cell_type": "code",
   "execution_count": 4,
   "metadata": {},
   "outputs": [
    {
     "name": "stdout",
     "output_type": "stream",
     "text": [
      "\n",
      "Please enter the degree in Celsius: 30\n",
      "30 in Celsius is equal to 86.0 in Farenheit\n"
     ]
    }
   ],
   "source": [
    "prompt = \"\\nPlease enter the degree in Celsius: \"\n",
    "C_degree = input(prompt)\n",
    "C_degree = int(C_degree)\n",
    "F_degree = C_degree * (9/5) + 32\n",
    "print(f\"{C_degree} in Celsius is equal to {F_degree} in Farenheit\")"
   ]
  },
  {
   "cell_type": "markdown",
   "metadata": {},
   "source": [
    "Q&A 5. Rewrite your pay computation to give the employee 1.5 times the hourly rate for hours worked above 40 hours."
   ]
  },
  {
   "cell_type": "code",
   "execution_count": 119,
   "metadata": {},
   "outputs": [
    {
     "name": "stdout",
     "output_type": "stream",
     "text": [
      "\n",
      "Please enter your worked hours: 50\n",
      "\n",
      "Please enter your worked hour rate: 10\n",
      "$550.0 is your gross pay.\n"
     ]
    }
   ],
   "source": [
    "prompt1 = \"\\nPlease enter your worked hours: \"\n",
    "hours = input(prompt1)\n",
    "hours = int(hours)\n",
    "prompt2 = \"\\nPlease enter your worked hour rate: \"\n",
    "rate = input(prompt2)\n",
    "rate = int(rate)\n",
    "if hours > 40:\n",
    "    Pay = (hours - 40)*1.5*(rate) + (40 * rate)\n",
    "    print(f\"${Pay} is your gross pay.\")\n",
    "else:\n",
    "    Pay = (hours)* rate\n",
    "    print(f\"${Pay} is your gross pay.\")"
   ]
  },
  {
   "cell_type": "markdown",
   "metadata": {},
   "source": [
    "Q&A 6. Write a program which repeatedly reads numbers until the user enters ‘done’. Once ‘done’ is entered, print out the sum, count, and average of the numbers. If the user enters anything other than a number, detect their mistake using try and except and print an error message and skip to the next number."
   ]
  },
  {
   "cell_type": "code",
   "execution_count": 23,
   "metadata": {},
   "outputs": [
    {
     "name": "stdout",
     "output_type": "stream",
     "text": [
      "Enter a number: 4\n",
      "Enter a number: e\n",
      "Invalid input.\n",
      "Enter a number: 5\n",
      "Enter a number: 1\n",
      "Enter a number: done\n",
      "These are the results of your inputs: sum = 10.0, count = 3, average = 3.33\n"
     ]
    }
   ],
   "source": [
    "sum = 0\n",
    "count = 0\n",
    "average = 0\n",
    "while True:\n",
    "    try:\n",
    "        num = input(\"Enter a number: \")\n",
    "        if num == 'done':\n",
    "            break\n",
    "        val = float(num)\n",
    "        sum = val + sum\n",
    "        count = count + 1\n",
    "        average = sum / count\n",
    "    except:\n",
    "        print(\"Invalid input.\")\n",
    "print(f'These are the results of your inputs: sum = {sum}, count = {count}, average = {round(average,2)}')"
   ]
  },
  {
   "cell_type": "markdown",
   "metadata": {},
   "source": [
    "Q&A 7. Rewrite your pay program using try and except so that your program handles non-numeric input gracefully by printing a message and exiting the program."
   ]
  },
  {
   "cell_type": "code",
   "execution_count": 118,
   "metadata": {},
   "outputs": [
    {
     "name": "stdout",
     "output_type": "stream",
     "text": [
      "\n",
      "Please enter your worked hours: 60\n",
      "\n",
      "Please enter your worked hour rate: 20\n",
      "$1400.0 is your gross pay.\n"
     ]
    }
   ],
   "source": [
    "try:\n",
    "    prompt1 = \"\\nPlease enter your worked hours: \"\n",
    "    hours = input(prompt1)\n",
    "    hours = int(hours)\n",
    "    prompt2 = \"\\nPlease enter your worked hour rate: \"\n",
    "    rate = input(prompt2)\n",
    "    rate = int(rate)\n",
    "    if hours > 40:\n",
    "        Pay = (hours - 40)*1.5*(rate) + (40 * rate)\n",
    "        print(f\"${Pay} is your gross pay.\")\n",
    "    else:\n",
    "        Pay = (hours)* rate\n",
    "        print(f\"${Pay} is your gross pay.\")\n",
    "except:\n",
    "    print('Error, please enter numeric number.')"
   ]
  },
  {
   "cell_type": "markdown",
   "metadata": {},
   "source": [
    "Q&A 8. Write a program to prompt for a score between 0.0 and 1.0. If the score is out of range, print an error message. If the score is between 0.0 and 1.0, print a grade using the following table: \n",
    "score : =1, >=0.9,>=0.8,>=0.7,>=0.6,<0.6\n",
    "grade:perfect, A, B, C, D, F respectively"
   ]
  },
  {
   "cell_type": "code",
   "execution_count": null,
   "metadata": {},
   "outputs": [],
   "source": [
    "try:\n",
    "    score = input('Enter score: ')\n",
    "    score = float(score)\n",
    "    if score == 1.0:\n",
    "        print('Congrats! This is a perfect score.')\n",
    "    elif score >= 0.9 and score < 1.0:\n",
    "        print('A')\n",
    "    elif score >= 0.8 and score < 0.9:\n",
    "        print('B')\n",
    "    elif score >= 0.7 and score < 0.8:\n",
    "        print('C')\n",
    "    elif score >= 0.6 and score < 0.7:\n",
    "        print('D')\n",
    "    elif score < 0.6 and score >= 0.0:\n",
    "        print('F')\n",
    "    else:\n",
    "        print('Out of range')\n",
    "except:\n",
    "    print('Error,please try again.')"
   ]
  },
  {
   "cell_type": "markdown",
   "metadata": {},
   "source": [
    "Q&A 9. Rewrite your pay computation with time-and-a-half for over- time and create a function called computepay which takes two parameters (hours and rate)."
   ]
  },
  {
   "cell_type": "code",
   "execution_count": 22,
   "metadata": {},
   "outputs": [
    {
     "data": {
      "text/plain": [
       "550.0"
      ]
     },
     "execution_count": 22,
     "metadata": {},
     "output_type": "execute_result"
    }
   ],
   "source": [
    "def computepay(hours,rate):\n",
    "    hours = float(hours)\n",
    "    rate = float(rate)\n",
    "    if hours > 40:\n",
    "        pay = (hours - 40)*1.5*(rate) + (40 * rate)\n",
    "        return(pay)\n",
    "    else:\n",
    "        pay = hours * rate\n",
    "        return(pay)\n",
    "    \n",
    "computepay(50,10)"
   ]
  },
  {
   "cell_type": "markdown",
   "metadata": {},
   "source": [
    "Q&A 10. Rewrite the grade program from the previous chapter using a function called computegrade that takes a score as its parameter and returns a grade as a string."
   ]
  },
  {
   "cell_type": "code",
   "execution_count": 20,
   "metadata": {},
   "outputs": [
    {
     "name": "stdout",
     "output_type": "stream",
     "text": [
      "Out of range\n"
     ]
    }
   ],
   "source": [
    "def computegrade(score):\n",
    "    score = float(score)\n",
    "    if score >=0.9 and score <= 1.0:\n",
    "        print('A')\n",
    "    elif score >=0.8 and score <0.9:\n",
    "        print('B')\n",
    "    elif score >=0.7 and score < 0.8:\n",
    "        print('C')\n",
    "    elif score >=0.6 and score <0.7:\n",
    "        print('D')\n",
    "    elif score <0.6 and score >=0.0:\n",
    "        print('F')\n",
    "    else:\n",
    "        print('Out of range')\n",
    "computegrade(5)   "
   ]
  },
  {
   "cell_type": "markdown",
   "metadata": {},
   "source": [
    "Q&A 11. Write a program which will find all such numbers which are divisible by 7 but are not a multiple of 5,between 100 and 220 (both included).\n",
    "The numbers obtained should be printed in a comma-separated sequence on a single line."
   ]
  },
  {
   "cell_type": "code",
   "execution_count": 13,
   "metadata": {},
   "outputs": [
    {
     "name": "stdout",
     "output_type": "stream",
     "text": [
      "[112, 119, 126, 133, 147, 154, 161, 168, 182, 189, 196, 203, 217]\n"
     ]
    }
   ],
   "source": [
    "lst = []\n",
    "for i in range(100,221):\n",
    "    if i%7 == 0 and i%5 != 0:\n",
    "        lst.append(i)\n",
    "print(lst)"
   ]
  },
  {
   "cell_type": "markdown",
   "metadata": {},
   "source": [
    "Q&A 12. With a given integral number n, write a program to generate a dictionary that contains (i, i*i) such that is an integral number between 1 and n (both included), and then the program should print the dictionary.Suppose the following input is supplied to the program:8, Then, the output should be:\n",
    "{1: 1, 2: 4, 3: 9, 4: 16, 5: 25, 6: 36, 7: 49, 8: 64}"
   ]
  },
  {
   "cell_type": "code",
   "execution_count": 13,
   "metadata": {},
   "outputs": [
    {
     "name": "stdout",
     "output_type": "stream",
     "text": [
      "Enter a number: 8\n",
      "{1: 1, 2: 4, 3: 9, 4: 16, 5: 25, 6: 36, 7: 49, 8: 64}\n"
     ]
    }
   ],
   "source": [
    "num = int(input('Enter a number: '))\n",
    "dict = {}\n",
    "for i in range(1,num+1):\n",
    "    dict[i]= i*i\n",
    "print(dict)"
   ]
  },
  {
   "cell_type": "markdown",
   "metadata": {},
   "source": [
    " Q&A 13. Write a program which can compute the factorial of a given numbers.The results should be printed in a comma-separated sequence on a single line.Suppose the following input is supplied to the program:\n",
    "5,then, the output should be: 120"
   ]
  },
  {
   "cell_type": "code",
   "execution_count": 72,
   "metadata": {},
   "outputs": [
    {
     "name": "stdout",
     "output_type": "stream",
     "text": [
      "Enter number: 5\n",
      "120\n"
     ]
    }
   ],
   "source": [
    "def fact(n):\n",
    "    for i in range(1,n+1):\n",
    "        if n == 1:\n",
    "            return 1\n",
    "        else:\n",
    "            return n*fact(n-1)\n",
    "num = int(input('Enter number: '))\n",
    "print(fac(num))"
   ]
  },
  {
   "cell_type": "markdown",
   "metadata": {},
   "source": [
    "Q&A 14.Use a list comprehension to square each odd number in a list.\n",
    "The list is input by a sequence of comma-separated numbers.\n",
    "Suppose the following input is supplied to the program:\n",
    "1,2,3,4,5,6,7,8,9\n",
    "Then, the output should be:\n",
    "1,9,25,49,81"
   ]
  },
  {
   "cell_type": "code",
   "execution_count": 76,
   "metadata": {},
   "outputs": [
    {
     "data": {
      "text/plain": [
       "[1, 9, 25, 49, 81]"
      ]
     },
     "execution_count": 76,
     "metadata": {},
     "output_type": "execute_result"
    }
   ],
   "source": [
    "lst = [1,2,3,4,5,6,7,8,9]\n",
    "new_lst = [x**2 for x in lst if x%2 != 0]\n",
    "new_lst"
   ]
  },
  {
   "cell_type": "markdown",
   "metadata": {},
   "source": [
    "Q&A 15. Write a program that accepts a sentence and calculate the number of upper case letters and lower case letters.\n",
    "Suppose the following input is supplied to the program:\n",
    "Hello World!\n",
    "Then, the output should be:\n",
    "UPPER CASE 1\n",
    "LOWER CASE 8"
   ]
  },
  {
   "cell_type": "code",
   "execution_count": 64,
   "metadata": {},
   "outputs": [
    {
     "name": "stdout",
     "output_type": "stream",
     "text": [
      "Enter a sentence: Good morning America!\n",
      "UPPER CASE: 2\n",
      "LOWER CASE: 16\n"
     ]
    }
   ],
   "source": [
    "st = input('Enter a sentence: ')\n",
    "dict = {'uppercase': 0, 'lowercase':0}\n",
    "for char in st:\n",
    "    if char.isupper():\n",
    "        dict['uppercase'] += 1\n",
    "    elif char.islower():\n",
    "        dict['lowercase'] += 1\n",
    "    else:\n",
    "        pass\n",
    "print('UPPER CASE:', dict['uppercase'])\n",
    "print('LOWER CASE:', dict['lowercase'])"
   ]
  },
  {
   "cell_type": "markdown",
   "metadata": {},
   "source": [
    "Q&A 16. Write a function that can calculate square value of number."
   ]
  },
  {
   "cell_type": "code",
   "execution_count": 9,
   "metadata": {},
   "outputs": [
    {
     "name": "stdout",
     "output_type": "stream",
     "text": [
      "Square of 6 is: 36\n",
      "Square of 9 is: 81\n"
     ]
    }
   ],
   "source": [
    "def square(num):\n",
    "    return num ** 2\n",
    "\n",
    "print(f'Square of 6 is: {square(6)}')\n",
    "print(f'Square of 9 is: {square(9)}')"
   ]
  },
  {
   "cell_type": "markdown",
   "metadata": {},
   "source": [
    "Q&A 17. Define a function that can compute the sum of two numbers."
   ]
  },
  {
   "cell_type": "code",
   "execution_count": 10,
   "metadata": {},
   "outputs": [
    {
     "name": "stdout",
     "output_type": "stream",
     "text": [
      "22\n",
      "10.0\n"
     ]
    }
   ],
   "source": [
    "def sumfunction(num1,num2):\n",
    "    return num1 + num2\n",
    "print(sumfunction(10,12))\n",
    "print(sumfunction(4.5,5.5))"
   ]
  },
  {
   "cell_type": "markdown",
   "metadata": {},
   "source": [
    "Q&A 18. Write a function that can print a dictionary where the keys are numbers between 1 and 10 included and the values are the square of the keys."
   ]
  },
  {
   "cell_type": "code",
   "execution_count": 12,
   "metadata": {},
   "outputs": [
    {
     "data": {
      "text/plain": [
       "{1: 1, 2: 4, 3: 9, 4: 16, 5: 25, 6: 36, 7: 49, 8: 64, 9: 81, 10: 100}"
      ]
     },
     "execution_count": 12,
     "metadata": {},
     "output_type": "execute_result"
    }
   ],
   "source": [
    "def my_dict():\n",
    "    d = dict()\n",
    "    for i in range(1,11):\n",
    "        d[i]= i**2\n",
    "    for (k,v) in d.items():\n",
    "        return d\n",
    "my_dict()"
   ]
  },
  {
   "cell_type": "markdown",
   "metadata": {},
   "source": [
    "Q&A 19. Define a function that can generate a list where the values are the square of number between 1 and 10 included."
   ]
  },
  {
   "cell_type": "code",
   "execution_count": 25,
   "metadata": {},
   "outputs": [
    {
     "name": "stdout",
     "output_type": "stream",
     "text": [
      "[1, 4, 9, 16, 25, 36, 49, 64, 81, 100]\n"
     ]
    }
   ],
   "source": [
    "def my_list():\n",
    "    lst = []\n",
    "    for i in range(1,11):\n",
    "        lst.append(i**2)\n",
    "    print(lst)\n",
    "my_list()"
   ]
  },
  {
   "cell_type": "markdown",
   "metadata": {},
   "source": [
    "Q&A 20. Write a program to generate and print another tuple whose values are even numbers in the given tuple (1,2,3,4,5,6,7,8,9,10)."
   ]
  },
  {
   "cell_type": "code",
   "execution_count": 43,
   "metadata": {},
   "outputs": [
    {
     "name": "stdout",
     "output_type": "stream",
     "text": [
      "(2, 4, 6, 8, 10)\n"
     ]
    }
   ],
   "source": [
    "my_tuple = (1,2,3,4,5,6,7,8,9,10)\n",
    "# convert tuple to list to be easy to extract even numbers\n",
    "lst = list(my_tuple)\n",
    "# Create empty list that whole even numbers\n",
    "even_lst = []\n",
    "# Loop through the list\n",
    "for i in lst:\n",
    "    if i%2 == 0:\n",
    "        even_lst.append(i)\n",
    "# Convert even list to even tuple\n",
    "even_tuple = tuple(even_lst)  \n",
    "print(even_tuple)"
   ]
  },
  {
   "cell_type": "markdown",
   "metadata": {},
   "source": [
    "    Q&A 21. Take a list, say for example this one: a = [1, 1, 2, 3, 5, 8, 13, 21, 34, 55, 89],and:\n",
    "       1) write a program that prints out all the elements of the list that are less than 5.\n",
    "       2) Instead of printing the elements one by one, make a new list that has all the elements less than 5 from this list in it and print out this new list.\n",
    "       3) Write this in one line of Python."
   ]
  },
  {
   "cell_type": "code",
   "execution_count": 27,
   "metadata": {},
   "outputs": [
    {
     "name": "stdout",
     "output_type": "stream",
     "text": [
      "1\n",
      "1\n",
      "2\n",
      "3\n",
      "[1, 1, 2, 3]\n",
      "[1, 1, 2, 3]\n"
     ]
    }
   ],
   "source": [
    "a = [1, 1, 2, 3, 5, 8, 13, 21, 34, 55, 89]\n",
    "# answer question1:\n",
    "for num in a:\n",
    "    if num < 5: \n",
    "        print(num)\n",
    "# answer question 2:\n",
    "new_a = []\n",
    "for num in a:\n",
    "    if num < 5:\n",
    "        new_a.append(num)\n",
    "print(new_a)\n",
    "# answer question 3:\n",
    "print([num for num in a if num <5])"
   ]
  },
  {
   "cell_type": "markdown",
   "metadata": {},
   "source": [
    "    Q&A 22: Create a program that asks the user for a number and then prints out a list of all the divisors of that number. (If you don’t know what a divisor is, it is a number that divides evenly into another number. For example, 13 is a divisor of 26 because 26 / 13 has no remainder.)"
   ]
  },
  {
   "cell_type": "code",
   "execution_count": 19,
   "metadata": {},
   "outputs": [
    {
     "name": "stdout",
     "output_type": "stream",
     "text": [
      "Enter a number: 88\n",
      "[1, 2, 4, 8, 11, 22, 44, 88]\n"
     ]
    }
   ],
   "source": [
    "num = input('Enter a number: ')\n",
    "num = int(num)\n",
    "lst = []\n",
    "for i in range(1,num+1):\n",
    "    if num%i == 0:\n",
    "        lst.append(i)\n",
    "print(lst)"
   ]
  },
  {
   "cell_type": "markdown",
   "metadata": {},
   "source": [
    "    Q&A 23: Take two lists, say for example these two:\n",
    "    a = [1, 1, 2, 3, 5, 8, 13, 21, 34, 55, 89]\n",
    "    b = [1, 2, 3, 4, 5, 6, 7, 8, 9, 10, 11, 12, 13]\n",
    "    1) Write a program that returns a list that contains only the elements that are common between the lists (without duplicates). Make sure your program works on two lists of different sizes.\n",
    "    2) Randomly generate two lists to test this\n",
    "    3) Write this in one line of Python"
   ]
  },
  {
   "cell_type": "code",
   "execution_count": 52,
   "metadata": {
    "scrolled": true
   },
   "outputs": [
    {
     "name": "stdout",
     "output_type": "stream",
     "text": [
      "[1, 2, 3, 5, 8, 13]\n",
      "[1, 2, 3, 5, 8, 13]\n",
      "Type fruit to check: apple\n",
      "This apple is in both lists.\n"
     ]
    }
   ],
   "source": [
    "# answer question 1:\n",
    "a = [1, 1, 2, 3, 5, 8, 13, 21, 34, 55, 89]\n",
    "b = [1, 2, 3, 4, 5, 6, 7, 8, 9, 10, 11, 12, 13]\n",
    "c = []\n",
    "for i in a:\n",
    "    if i in b:\n",
    "        c.append(i)\n",
    "# Method to remove duplicate in list: 1) dict.fromkeys() and 2) set()\n",
    "print(list(dict.fromkeys(c)))\n",
    "print(list(set(c)))\n",
    "# answer question 2:\n",
    "lst_fruits_1 = ['kiwi', 'apple', 'banana', 'pear']\n",
    "lst_fruits_2 = ['pineapple', 'orange', 'apple', 'kiwi']\n",
    "fruit = input('Type fruit to check: ')\n",
    "if fruit in lst_fruits_1 and fruit in lst_fruits_2:\n",
    "    print(f'This {fruit} is in both lists.')\n",
    "else:\n",
    "    print(f'This {fruit} is not in both lists.')"
   ]
  },
  {
   "cell_type": "markdown",
   "metadata": {},
   "source": [
    "    Q&A 24: Ask the user for a string and print out whether this string is a palindrome or not. (A palindrome is a string that reads the same forwards and backwards.)"
   ]
  },
  {
   "cell_type": "code",
   "execution_count": 72,
   "metadata": {},
   "outputs": [
    {
     "name": "stdout",
     "output_type": "stream",
     "text": [
      "Type word to check: madam\n",
      "True\n"
     ]
    }
   ],
   "source": [
    "my_str = input('Type word to check: ')\n",
    "if my_str[:] == my_str[::-1]:\n",
    "    print(True)\n",
    "else:\n",
    "    print(False)"
   ]
  },
  {
   "cell_type": "code",
   "execution_count": 77,
   "metadata": {},
   "outputs": [
    {
     "name": "stdout",
     "output_type": "stream",
     "text": [
      "Type word to check: radar\n",
      "True\n"
     ]
    }
   ],
   "source": [
    "def check_palindrome(s):\n",
    "    if s[:]== s[::-1]:\n",
    "        print(True)\n",
    "    else:\n",
    "        print(False)\n",
    "inpt = input('Type word to check: ')\n",
    "check_palindrome(inpt)"
   ]
  },
  {
   "cell_type": "markdown",
   "metadata": {},
   "source": [
    "    Q&A 25: Given a list saved in a variable: a = [1, 4, 9, 16, 25, 36, 49, 64, 81, 100]. Write one line of Python that takes this list a and makes a new list that has only the even elements of this list in it."
   ]
  },
  {
   "cell_type": "code",
   "execution_count": 78,
   "metadata": {},
   "outputs": [
    {
     "name": "stdout",
     "output_type": "stream",
     "text": [
      "<generator object <genexpr> at 0x7f82b1cc7350>\n"
     ]
    }
   ],
   "source": [
    "a = [1, 4, 9, 16, 25, 36, 49, 64, 81, 100]\n",
    "print(num for num in a if num%2 == 0)"
   ]
  },
  {
   "cell_type": "code",
   "execution_count": null,
   "metadata": {},
   "outputs": [],
   "source": []
  }
 ],
 "metadata": {
  "kernelspec": {
   "display_name": "Python 3",
   "language": "python",
   "name": "python3"
  },
  "language_info": {
   "codemirror_mode": {
    "name": "ipython",
    "version": 3
   },
   "file_extension": ".py",
   "mimetype": "text/x-python",
   "name": "python",
   "nbconvert_exporter": "python",
   "pygments_lexer": "ipython3",
   "version": "3.7.4"
  }
 },
 "nbformat": 4,
 "nbformat_minor": 2
}
