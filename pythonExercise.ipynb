{
 "cells": [
  {
   "cell_type": "markdown",
   "metadata": {},
   "source": [
    " 1. Write a program that uses input to prompt a user for their name and then welcomes them."
   ]
  },
  {
   "cell_type": "code",
   "execution_count": 2,
   "metadata": {},
   "outputs": [
    {
     "name": "stdout",
     "output_type": "stream",
     "text": [
      "\n",
      "Please enter your name: \n",
      "Enter 'q' when you are finished. mike\n",
      "Hello mike!\n",
      "\n",
      "Please enter your name: \n",
      "Enter 'q' when you are finished. q\n"
     ]
    }
   ],
   "source": [
    "# a starts with while True: will run forever unless it reaches a break statement.\n",
    "# you could use break to quit a for loop that's working through a list or a dictionary.\n",
    "prompt = \"\\nPlease enter your name: \"\n",
    "prompt += \"\\nEnter 'q' when you are finished. \"\n",
    "while True:\n",
    "    name = input(prompt)\n",
    "    if name == 'q':\n",
    "        break\n",
    "    else:\n",
    "        print(f\"Hello {name}!\")"
   ]
  },
  {
   "cell_type": "markdown",
   "metadata": {},
   "source": [
    "2. Write a program to prompt the user for hours and rate per hour to compute gross pay."
   ]
  },
  {
   "cell_type": "code",
   "execution_count": 6,
   "metadata": {},
   "outputs": [
    {
     "name": "stdout",
     "output_type": "stream",
     "text": [
      "\n",
      "Please enter your hours: \n",
      "Enter 'q' when you are finished.43\n",
      "\n",
      "Please enter rate/hour: \n",
      "Enter 'q' when you are finished.2.54\n",
      "This is your gross pay: $109.22!\n",
      "\n",
      "Please enter your hours: \n",
      "Enter 'q' when you are finished.q\n"
     ]
    }
   ],
   "source": [
    "prompt1 = \"\\nPlease enter your hours: \"\n",
    "prompt1 += \"\\nEnter 'q' when you are finished.\"\n",
    "prompt2 = \"\\nPlease enter rate/hour: \"\n",
    "prompt2 += \"\\nEnter 'q' when you are finished.\"\n",
    "while True:\n",
    "    hours = input(prompt1)\n",
    "    if hours == 'q':\n",
    "        break\n",
    "    rate_per_hour = input(prompt2)\n",
    "    if rate_per_hour == 'q':\n",
    "        break\n",
    "    gross_pay = float(hours) * float(rate_per_hour)\n",
    "    print(f\"This is your gross pay: ${gross_pay}!\")"
   ]
  },
  {
   "cell_type": "markdown",
   "metadata": {},
   "source": [
    "3. Assume that we execute the following assignment statements: width = 14, height = 8. For each of the following expressions, write the value of the expression and the type (of the value of the expression).\n",
    "a) width//2 b) width/2.0 c) height/3 d) 1 + 2 * 5"
   ]
  },
  {
   "cell_type": "code",
   "execution_count": 16,
   "metadata": {},
   "outputs": [
    {
     "name": "stdout",
     "output_type": "stream",
     "text": [
      "7\n",
      "7.0\n",
      "2.6666666666666665\n",
      "11\n"
     ]
    }
   ],
   "source": [
    "width = 14\n",
    "height = 8\n",
    "print(width//2)\n",
    "print(width/2.0)\n",
    "print((height/3))\n",
    "print( 1 + 2 * 5)"
   ]
  },
  {
   "cell_type": "code",
   "execution_count": null,
   "metadata": {},
   "outputs": [],
   "source": []
  }
 ],
 "metadata": {
  "kernelspec": {
   "display_name": "Python 3",
   "language": "python",
   "name": "python3"
  },
  "language_info": {
   "codemirror_mode": {
    "name": "ipython",
    "version": 3
   },
   "file_extension": ".py",
   "mimetype": "text/x-python",
   "name": "python",
   "nbconvert_exporter": "python",
   "pygments_lexer": "ipython3",
   "version": "3.7.4"
  }
 },
 "nbformat": 4,
 "nbformat_minor": 2
}
