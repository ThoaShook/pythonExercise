{
 "cells": [
  {
   "cell_type": "markdown",
   "metadata": {},
   "source": [
    " 1. Write a program that uses input to prompt a user for their name and then welcomes them."
   ]
  },
  {
   "cell_type": "code",
   "execution_count": 1,
   "metadata": {},
   "outputs": [
    {
     "name": "stdout",
     "output_type": "stream",
     "text": [
      "Please enter your name: mariam\n",
      "Hello Mariam!\n",
      "Please enter your name: q\n"
     ]
    }
   ],
   "source": [
    "# a starts with while True: will run forever unless it reaches a break statement.\n",
    "# you could use break to quit a for loop that's working through a list or a dictionary.\n",
    "prompt = \"\\nPlease enter your name: \"\n",
    "prompt += \"\\nEnter 'q' when you are finished. \"\n",
    "while True:\n",
    "    name = input('Please enter your name: ')\n",
    "    if name == 'q':\n",
    "        break\n",
    "    else:\n",
    "        print(f\"Hello {name.title()}!\")"
   ]
  },
  {
   "cell_type": "markdown",
   "metadata": {},
   "source": [
    "2. Write a program to prompt the user for hours and rate per hour to compute gross pay."
   ]
  },
  {
   "cell_type": "code",
   "execution_count": 2,
   "metadata": {},
   "outputs": [
    {
     "name": "stdout",
     "output_type": "stream",
     "text": [
      "Please enter your worked hours: 40\n",
      "Please enter your worked hour rate: 20\n",
      "This is your gross pay: $800.0!\n",
      "Please enter your worked hours: q\n"
     ]
    }
   ],
   "source": [
    "prompt1 = \"\\nPlease enter your hours: \"\n",
    "prompt1 += \"\\nEnter 'q' when you are finished.\"\n",
    "prompt2 = \"\\nPlease enter rate/hour: \"\n",
    "prompt2 += \"\\nEnter 'q' when you are finished.\"\n",
    "while True:\n",
    "    hours = input('Please enter your worked hours: ' )\n",
    "    if hours == 'q':\n",
    "        break\n",
    "    rate_per_hour = input('Please enter your worked hour rate: ')\n",
    "    if rate_per_hour == 'q':\n",
    "        break\n",
    "    gross_pay = float(hours) * float(rate_per_hour)\n",
    "    print(f\"This is your gross pay: ${gross_pay}!\")"
   ]
  },
  {
   "cell_type": "markdown",
   "metadata": {},
   "source": [
    "3. Assume that we execute the following assignment statements: width = 14, height = 8. For each of the following expressions, write the value of the expression and the type (of the value of the expression).\n",
    "a) width//2 b) width/2.0 c) height/3 d) 1 + 2 * 5"
   ]
  },
  {
   "cell_type": "code",
   "execution_count": 3,
   "metadata": {
    "scrolled": true
   },
   "outputs": [
    {
     "name": "stdout",
     "output_type": "stream",
     "text": [
      "1. 7 is the result of width//2, and its type is <class 'int'>\n",
      "2. 7.0 is the result of width/2, and its type is <class 'float'>\n",
      "3. 2.67 is the result of height/3, and its type is <class 'float'>\n",
      "4. 11 is the result of 1 + 2 * 5, and its type is <class 'int'>\n"
     ]
    }
   ],
   "source": [
    "width = 14\n",
    "height = 8\n",
    "a = width//2\n",
    "print(f\"1. {a} is the result of width//2, and its type is {type(a)}\")\n",
    "b = width/2\n",
    "print(f\"2. {b} is the result of width/2, and its type is {type(b)}\")\n",
    "c = height/3\n",
    "c = round(c,2)\n",
    "print(f\"3. {c} is the result of height/3, and its type is {type(c)}\")\n",
    "d =  1 + 2 * 5\n",
    "print(f\"4. {d} is the result of 1 + 2 * 5, and its type is {type(d)}\")"
   ]
  },
  {
   "cell_type": "markdown",
   "metadata": {},
   "source": [
    "4. Write a program which prompts the user for a Celsius temperature, convert the temperature to Fahrenheit, and print out the convertd temperature."
   ]
  },
  {
   "cell_type": "code",
   "execution_count": 4,
   "metadata": {},
   "outputs": [
    {
     "name": "stdout",
     "output_type": "stream",
     "text": [
      "\n",
      "Please enter the degree in Celsius: 30\n",
      "30 in Celsius is equal to 86.0 in Farenheit\n"
     ]
    }
   ],
   "source": [
    "prompt = \"\\nPlease enter the degree in Celsius: \"\n",
    "C_degree = input(prompt)\n",
    "C_degree = int(C_degree)\n",
    "F_degree = C_degree * (9/5) + 32\n",
    "print(f\"{C_degree} in Celsius is equal to {F_degree} in Farenheit\")"
   ]
  },
  {
   "cell_type": "markdown",
   "metadata": {},
   "source": [
    "5. Rewrite your pay computation to give the employee 1.5 times the hourly rate for hours worked above 40 hours."
   ]
  },
  {
   "cell_type": "code",
   "execution_count": 119,
   "metadata": {},
   "outputs": [
    {
     "name": "stdout",
     "output_type": "stream",
     "text": [
      "\n",
      "Please enter your worked hours: 50\n",
      "\n",
      "Please enter your worked hour rate: 10\n",
      "$550.0 is your gross pay.\n"
     ]
    }
   ],
   "source": [
    "prompt1 = \"\\nPlease enter your worked hours: \"\n",
    "hours = input(prompt1)\n",
    "hours = int(hours)\n",
    "prompt2 = \"\\nPlease enter your worked hour rate: \"\n",
    "rate = input(prompt2)\n",
    "rate = int(rate)\n",
    "if hours > 40:\n",
    "    Pay = (hours - 40)*1.5*(rate) + (40 * rate)\n",
    "    print(f\"${Pay} is your gross pay.\")\n",
    "else:\n",
    "    Pay = (hours)* rate\n",
    "    print(f\"${Pay} is your gross pay.\")"
   ]
  },
  {
   "cell_type": "markdown",
   "metadata": {},
   "source": [
    "6. Write a program which repeatedly reads numbers until the user enters ‘done’. Once ‘done’ is entered, print out the sum, count, and average of the numbers. If the user enters anything other than a number, detect their mistake using try and except and print an error message and skip to the next number."
   ]
  },
  {
   "cell_type": "code",
   "execution_count": 6,
   "metadata": {},
   "outputs": [
    {
     "name": "stdout",
     "output_type": "stream",
     "text": [
      "Enter a number: 4\n",
      "Enter a number: true\n",
      "Invalid input.\n",
      "Enter a number: 5\n",
      "Enter a number: 1\n",
      "Enter a number: done\n",
      "These are the results of your inputs: sum = 10.0, count = 3, average = 3.33\n"
     ]
    }
   ],
   "source": [
    "sum = 0\n",
    "count = 0\n",
    "average = 0\n",
    "while True:\n",
    "    try:\n",
    "        num = input(\"Enter a number: \")\n",
    "        if num == 'done':\n",
    "            break\n",
    "        val = float(num)\n",
    "        sum = val + sum\n",
    "        count = count + 1\n",
    "        average = sum / count\n",
    "    except:\n",
    "        print(\"Invalid input.\")\n",
    "print(f'These are the results of your inputs: sum = {sum}, count = {count}, average = {round(average,2)}')"
   ]
  },
  {
   "cell_type": "markdown",
   "metadata": {},
   "source": [
    "7. Rewrite your pay program using try and except so that your program handles non-numeric input gracefully by printing a message and exiting the program."
   ]
  },
  {
   "cell_type": "code",
   "execution_count": 118,
   "metadata": {},
   "outputs": [
    {
     "name": "stdout",
     "output_type": "stream",
     "text": [
      "\n",
      "Please enter your worked hours: 60\n",
      "\n",
      "Please enter your worked hour rate: 20\n",
      "$1400.0 is your gross pay.\n"
     ]
    }
   ],
   "source": [
    "try:\n",
    "    prompt1 = \"\\nPlease enter your worked hours: \"\n",
    "    hours = input(prompt1)\n",
    "    hours = int(hours)\n",
    "    prompt2 = \"\\nPlease enter your worked hour rate: \"\n",
    "    rate = input(prompt2)\n",
    "    rate = int(rate)\n",
    "    if hours > 40:\n",
    "        Pay = (hours - 40)*1.5*(rate) + (40 * rate)\n",
    "        print(f\"${Pay} is your gross pay.\")\n",
    "    else:\n",
    "        Pay = (hours)* rate\n",
    "        print(f\"${Pay} is your gross pay.\")\n",
    "except:\n",
    "    print('Error, please enter numeric number.')"
   ]
  },
  {
   "cell_type": "markdown",
   "metadata": {},
   "source": [
    "8. Write a program to prompt for a score between 0.0 and 1.0. If the score is out of range, print an error message. If the score is between 0.0 and 1.0, print a grade using the following table: \n",
    "score : =1, >=0.9,>=0.8,>=0.7,>=0.6,<0.6\n",
    "grade:perfect, A, B, C, D, F respectively"
   ]
  },
  {
   "cell_type": "code",
   "execution_count": 93,
   "metadata": {},
   "outputs": [
    {
     "name": "stdout",
     "output_type": "stream",
     "text": [
      "Enter score: 5\n",
      "Out of range\n"
     ]
    }
   ],
   "source": [
    "try:\n",
    "    score = input('Enter score: ')\n",
    "    score = float(score)\n",
    "    if score == 1.0:\n",
    "        print('Congrats! This is a perfect score.')\n",
    "    elif score >= 0.9 and score < 1.0:\n",
    "        print('A')\n",
    "    elif score >= 0.8 and score < 0.9:\n",
    "        print('B')\n",
    "    elif score >= 0.7 and score < 0.8:\n",
    "        print('C')\n",
    "    elif score >= 0.6 and score < 0.7:\n",
    "        print('D')\n",
    "    elif score < 0.6 and score >= 0.0:\n",
    "        print('F')\n",
    "    else:\n",
    "        print('Out of range')\n",
    "except:\n",
    "    print('Error,please try again.')"
   ]
  },
  {
   "cell_type": "markdown",
   "metadata": {},
   "source": [
    "9. Rewrite your pay computation with time-and-a-half for over- time and create a function called computepay which takes two parameters (hours and rate)."
   ]
  },
  {
   "cell_type": "code",
   "execution_count": 2,
   "metadata": {},
   "outputs": [
    {
     "data": {
      "text/plain": [
       "700.0"
      ]
     },
     "execution_count": 2,
     "metadata": {},
     "output_type": "execute_result"
    }
   ],
   "source": [
    "def computepay(hours,rate):\n",
    "    hours = float(hours)\n",
    "    rate = float(rate)\n",
    "    if hours > 40:\n",
    "        pay = (hours - 40)*1.5*(rate) + (40 * rate)\n",
    "        return(pay)\n",
    "    else:\n",
    "        pay = hours * rate\n",
    "        return(pay)\n",
    "    \n",
    "computepay(60,10)"
   ]
  },
  {
   "cell_type": "markdown",
   "metadata": {},
   "source": [
    "10. Rewrite the grade program from the previous chapter using a function called computegrade that takes a score as its parameter and returns a grade as a string."
   ]
  },
  {
   "cell_type": "code",
   "execution_count": 17,
   "metadata": {},
   "outputs": [
    {
     "name": "stdout",
     "output_type": "stream",
     "text": [
      "Out of range\n"
     ]
    }
   ],
   "source": [
    "def computegrade(score):\n",
    "    score = float(score)\n",
    "    if score >=0.9 and score <= 1.0:\n",
    "        print('A')\n",
    "    elif score >=0.8 and score <0.9:\n",
    "        print('B')\n",
    "    elif score >=0.7 and score < 0.8:\n",
    "        print('C')\n",
    "    elif score >=0.6 and score <0.7:\n",
    "        print('D')\n",
    "    elif score <0.6 and score >=0.0:\n",
    "        print('F')\n",
    "    else:\n",
    "        print('Out of range')\n",
    "computegrade(2)   "
   ]
  },
  {
   "cell_type": "code",
   "execution_count": null,
   "metadata": {},
   "outputs": [],
   "source": []
  }
 ],
 "metadata": {
  "kernelspec": {
   "display_name": "Python 3",
   "language": "python",
   "name": "python3"
  },
  "language_info": {
   "codemirror_mode": {
    "name": "ipython",
    "version": 3
   },
   "file_extension": ".py",
   "mimetype": "text/x-python",
   "name": "python",
   "nbconvert_exporter": "python",
   "pygments_lexer": "ipython3",
   "version": "3.7.4"
  }
 },
 "nbformat": 4,
 "nbformat_minor": 2
}
