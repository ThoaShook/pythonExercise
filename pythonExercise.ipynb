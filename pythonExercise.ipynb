{
 "cells": [
  {
   "cell_type": "markdown",
   "metadata": {},
   "source": [
    " 1. Write a program that uses input to prompt a user for their name and then welcomes them."
   ]
  },
  {
   "cell_type": "code",
   "execution_count": 2,
   "metadata": {},
   "outputs": [
    {
     "name": "stdout",
     "output_type": "stream",
     "text": [
      "\n",
      "Please enter your name: \n",
      "Enter 'q' when you are finished. mike\n",
      "Hello mike!\n",
      "\n",
      "Please enter your name: \n",
      "Enter 'q' when you are finished. q\n"
     ]
    }
   ],
   "source": [
    "# a starts with while True: will run forever unless it reaches a break statement.\n",
    "# you could use break to quit a for loop that's working through a list or a dictionary.\n",
    "prompt = \"\\nPlease enter your name: \"\n",
    "prompt += \"\\nEnter 'q' when you are finished. \"\n",
    "while True:\n",
    "    name = input(prompt)\n",
    "    if name == 'q':\n",
    "        break\n",
    "    else:\n",
    "        print(f\"Hello {name}!\")"
   ]
  },
  {
   "cell_type": "markdown",
   "metadata": {},
   "source": [
    "2. Write a program to prompt the user for hours and rate per hour to compute gross pay."
   ]
  },
  {
   "cell_type": "code",
   "execution_count": 5,
   "metadata": {},
   "outputs": [
    {
     "name": "stdout",
     "output_type": "stream",
     "text": [
      "\n",
      "Please enter your hours: \n",
      "Enter 'q' when you are finished.43\n",
      "\n",
      "Please enter rate/hour: \n",
      "Enter 'q' when you are finished.6.75\n"
     ]
    },
    {
     "ename": "TypeError",
     "evalue": "can't multiply sequence by non-int of type 'str'",
     "output_type": "error",
     "traceback": [
      "\u001b[0;31m---------------------------------------------------------------------------\u001b[0m",
      "\u001b[0;31mTypeError\u001b[0m                                 Traceback (most recent call last)",
      "\u001b[0;32m<ipython-input-5-13726a44302a>\u001b[0m in \u001b[0;36m<module>\u001b[0;34m\u001b[0m\n\u001b[1;32m     10\u001b[0m     \u001b[0;32mif\u001b[0m \u001b[0mrate_per_hour\u001b[0m \u001b[0;34m==\u001b[0m \u001b[0;34m'q'\u001b[0m\u001b[0;34m:\u001b[0m\u001b[0;34m\u001b[0m\u001b[0;34m\u001b[0m\u001b[0m\n\u001b[1;32m     11\u001b[0m         \u001b[0;32mbreak\u001b[0m\u001b[0;34m\u001b[0m\u001b[0;34m\u001b[0m\u001b[0m\n\u001b[0;32m---> 12\u001b[0;31m     \u001b[0mgross_pay\u001b[0m \u001b[0;34m=\u001b[0m \u001b[0mhours\u001b[0m \u001b[0;34m*\u001b[0m \u001b[0mrate_per_hour\u001b[0m\u001b[0;34m\u001b[0m\u001b[0;34m\u001b[0m\u001b[0m\n\u001b[0m\u001b[1;32m     13\u001b[0m     \u001b[0mprint\u001b[0m\u001b[0;34m(\u001b[0m\u001b[0;34mf\"This is your gross pay: ${gross_pay}!\"\u001b[0m\u001b[0;34m)\u001b[0m\u001b[0;34m\u001b[0m\u001b[0;34m\u001b[0m\u001b[0m\n",
      "\u001b[0;31mTypeError\u001b[0m: can't multiply sequence by non-int of type 'str'"
     ]
    }
   ],
   "source": [
    "prompt1 = \"\\nPlease enter your hours: \"\n",
    "prompt1 += \"\\nEnter 'q' when you are finished.\"\n",
    "prompt2 = \"\\nPlease enter rate/hour: \"\n",
    "prompt2 += \"\\nEnter 'q' when you are finished.\"\n",
    "while True:\n",
    "    hours = input(prompt1)\n",
    "    if hours == 'q':\n",
    "        break\n",
    "    rate_per_hour = input(prompt2)\n",
    "    if rate_per_hour == 'q':\n",
    "        break\n",
    "    gross_pay = float(hours) * floatrate_per_hour\n",
    "    print(f\"This is your gross pay: ${gross_pay}!\")"
   ]
  },
  {
   "cell_type": "code",
   "execution_count": null,
   "metadata": {},
   "outputs": [],
   "source": []
  }
 ],
 "metadata": {
  "kernelspec": {
   "display_name": "Python 3",
   "language": "python",
   "name": "python3"
  },
  "language_info": {
   "codemirror_mode": {
    "name": "ipython",
    "version": 3
   },
   "file_extension": ".py",
   "mimetype": "text/x-python",
   "name": "python",
   "nbconvert_exporter": "python",
   "pygments_lexer": "ipython3",
   "version": "3.7.4"
  }
 },
 "nbformat": 4,
 "nbformat_minor": 2
}
