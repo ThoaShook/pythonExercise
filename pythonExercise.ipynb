{
 "cells": [
  {
   "cell_type": "markdown",
   "metadata": {},
   "source": [
    " 1. Write a program that uses input to prompt a user for their name and then welcomes them."
   ]
  },
  {
   "cell_type": "code",
   "execution_count": 2,
   "metadata": {},
   "outputs": [
    {
     "name": "stdout",
     "output_type": "stream",
     "text": [
      "Please enter your name: mike\n",
      "Hello Mike!\n",
      "Please enter your name: q\n"
     ]
    }
   ],
   "source": [
    "# a starts with while True: will run forever unless it reaches a break statement.\n",
    "# you could use break to quit a for loop that's working through a list or a dictionary.\n",
    "prompt = \"\\nPlease enter your name: \"\n",
    "prompt += \"\\nEnter 'q' when you are finished. \"\n",
    "while True:\n",
    "    name = input('Please enter your name: ')\n",
    "    if name == 'q':\n",
    "        break\n",
    "    else:\n",
    "        print(f\"Hello {name.title()}!\")"
   ]
  },
  {
   "cell_type": "markdown",
   "metadata": {},
   "source": [
    "2. Write a program to prompt the user for hours and rate per hour to compute gross pay."
   ]
  },
  {
   "cell_type": "code",
   "execution_count": 101,
   "metadata": {},
   "outputs": [
    {
     "name": "stdout",
     "output_type": "stream",
     "text": [
      "Please enter your worked hours: 50\n",
      "Please enter your worked hour rate: 10\n",
      "This is your gross pay: $500.0!\n",
      "Please enter your worked hours: q\n"
     ]
    }
   ],
   "source": [
    "prompt1 = \"\\nPlease enter your hours: \"\n",
    "prompt1 += \"\\nEnter 'q' when you are finished.\"\n",
    "prompt2 = \"\\nPlease enter rate/hour: \"\n",
    "prompt2 += \"\\nEnter 'q' when you are finished.\"\n",
    "while True:\n",
    "    hours = input('Please enter your worked hours: ' )\n",
    "    if hours == 'q':\n",
    "        break\n",
    "    rate_per_hour = input('Please enter your worked hour rate: ')\n",
    "    if rate_per_hour == 'q':\n",
    "        break\n",
    "    gross_pay = float(hours) * float(rate_per_hour)\n",
    "    print(f\"This is your gross pay: ${gross_pay}!\")"
   ]
  },
  {
   "cell_type": "markdown",
   "metadata": {},
   "source": [
    "3. Assume that we execute the following assignment statements: width = 14, height = 8. For each of the following expressions, write the value of the expression and the type (of the value of the expression).\n",
    "a) width//2 b) width/2.0 c) height/3 d) 1 + 2 * 5"
   ]
  },
  {
   "cell_type": "code",
   "execution_count": 55,
   "metadata": {
    "scrolled": true
   },
   "outputs": [
    {
     "name": "stdout",
     "output_type": "stream",
     "text": [
      "1. 7 is the result of width//2, and its type is <class 'int'>\n",
      "2. 7.0 is the result of width/2, and its type is <class 'float'>\n",
      "3. 2.67 is the result of height/3, and its type is <class 'float'>\n",
      "4. 11 is the result of 1 + 2 * 5, and its type is <class 'int'>\n"
     ]
    }
   ],
   "source": [
    "width = 14\n",
    "height = 8\n",
    "a = width//2\n",
    "print(f\"1. {a} is the result of width//2, and its type is {type(a)}\")\n",
    "b = width/2\n",
    "print(f\"2. {b} is the result of width/2, and its type is {type(b)}\")\n",
    "c = height/3\n",
    "c = round(c,2)\n",
    "print(f\"3. {c} is the result of height/3, and its type is {type(c)}\")\n",
    "d =  1 + 2 * 5\n",
    "print(f\"4. {d} is the result of 1 + 2 * 5, and its type is {type(d)}\")"
   ]
  },
  {
   "cell_type": "markdown",
   "metadata": {},
   "source": [
    "4. Write a program which prompts the user for a Celsius temperature, convert the temperature to Fahrenheit, and print out the convertd temperature."
   ]
  },
  {
   "cell_type": "code",
   "execution_count": 104,
   "metadata": {},
   "outputs": [
    {
     "name": "stdout",
     "output_type": "stream",
     "text": [
      "\n",
      "Please enter the degree in Celsius: 32\n",
      "32 in Celsius is equal to 89.6 in Farenheit\n"
     ]
    }
   ],
   "source": [
    "prompt = \"\\nPlease enter the degree in Celsius: \"\n",
    "C_degree = input(prompt)\n",
    "C_degree = int(C_degree)\n",
    "F_degree = C_degree * (9/5) + 32\n",
    "print(f\"{C_degree} in Celsius is equal to {F_degree} in Farenheit\")"
   ]
  },
  {
   "cell_type": "markdown",
   "metadata": {},
   "source": [
    "5. Rewrite your pay computation to give the employee 1.5 times the hourly rate for hours worked above 40 hours."
   ]
  },
  {
   "cell_type": "code",
   "execution_count": 1,
   "metadata": {},
   "outputs": [
    {
     "name": "stdout",
     "output_type": "stream",
     "text": [
      "\n",
      "Please enter your worked hours: 60\n",
      "\n",
      "Please enter your worked hour rate: 20\n",
      "$1800.0 is your gross pay.\n"
     ]
    }
   ],
   "source": [
    "prompt1 = \"\\nPlease enter your worked hours: \"\n",
    "hours = input(prompt1)\n",
    "hours = int(hours)\n",
    "prompt2 = \"\\nPlease enter your worked hour rate: \"\n",
    "rate = input(prompt2)\n",
    "rate = int(rate)\n",
    "if hours > 40:\n",
    "    Pay = (hours - 40)*1.5*(rate) + (hours * rate)\n",
    "    print(f\"${Pay} is your gross pay.\")\n",
    "else:\n",
    "    Pay = (hours)* rate\n",
    "    print(f\"${Pay} is your gross pay.\")"
   ]
  },
  {
   "cell_type": "markdown",
   "metadata": {},
   "source": [
    "6. Write a program which repeatedly reads numbers until the user enters ‘done’. Once ‘done’ is entered, print out the sum, count, and average of the numbers. If the user enters anything other than a number, detect their mistake using try and except and print an error message and skip to the next number."
   ]
  },
  {
   "cell_type": "code",
   "execution_count": 5,
   "metadata": {},
   "outputs": [
    {
     "name": "stdout",
     "output_type": "stream",
     "text": [
      "Enter a number: 9\n",
      "Enter a number: 10\n",
      "Enter a number: 11\n",
      "Enter a number: done\n",
      "These are the results of your inputs: sum = 30.0, count = 3, average = 10.0\n"
     ]
    }
   ],
   "source": [
    "sum = 0\n",
    "count = 0\n",
    "average = 0\n",
    "while True:\n",
    "    try:\n",
    "        num = input(\"Enter a number: \")\n",
    "        if num == 'done':\n",
    "            break\n",
    "        val = float(num)\n",
    "        sum = val + sum\n",
    "        count = count + 1\n",
    "        average = sum / count\n",
    "    except:\n",
    "        print(\"Invalid input.\")\n",
    "print(f'These are the results of your inputs: sum = {sum}, count = {count}, average = {average}')"
   ]
  },
  {
   "cell_type": "code",
   "execution_count": null,
   "metadata": {},
   "outputs": [],
   "source": []
  }
 ],
 "metadata": {
  "kernelspec": {
   "display_name": "Python 3",
   "language": "python",
   "name": "python3"
  },
  "language_info": {
   "codemirror_mode": {
    "name": "ipython",
    "version": 3
   },
   "file_extension": ".py",
   "mimetype": "text/x-python",
   "name": "python",
   "nbconvert_exporter": "python",
   "pygments_lexer": "ipython3",
   "version": "3.7.4"
  }
 },
 "nbformat": 4,
 "nbformat_minor": 2
}
