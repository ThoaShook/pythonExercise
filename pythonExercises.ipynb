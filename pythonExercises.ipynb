{
 "cells": [
  {
   "cell_type": "markdown",
   "metadata": {},
   "source": [
    " Q&A 1. Write a program that uses input to prompt a user for their name and then welcomes them."
   ]
  },
  {
   "cell_type": "code",
   "execution_count": 1,
   "metadata": {},
   "outputs": [
    {
     "name": "stdout",
     "output_type": "stream",
     "text": [
      "Please enter your name: thoa\n",
      "Hello Thoa!\n",
      "Please enter your name: q\n"
     ]
    }
   ],
   "source": [
    "# a starts with while True: will run forever unless it reaches a break statement.\n",
    "# you could use break to quit a for loop that's working through a list or a dictionary.\n",
    "while True:\n",
    "    name = input('Please enter your name: ')\n",
    "    if name == 'q':\n",
    "        break\n",
    "    else:\n",
    "        print(f\"Hello {name.title()}!\")"
   ]
  },
  {
   "cell_type": "markdown",
   "metadata": {},
   "source": [
    "Q&A 2. Write a program to prompt the user for hours and rate per hour to compute gross pay."
   ]
  },
  {
   "cell_type": "code",
   "execution_count": 3,
   "metadata": {},
   "outputs": [
    {
     "name": "stdout",
     "output_type": "stream",
     "text": [
      "Please enter your worked hours: 50\n",
      "Please enter your worked hour rate: 20\n",
      "This is your gross pay: $1000.0!\n",
      "Please enter your worked hours: q\n"
     ]
    }
   ],
   "source": [
    "while True:\n",
    "    hours = input('Please enter your worked hours: ' )\n",
    "    if hours == 'q':\n",
    "        break\n",
    "    rate_per_hour = input('Please enter your worked hour rate: ')\n",
    "    if rate_per_hour == 'q':\n",
    "        break\n",
    "    gross_pay = float(hours) * float(rate_per_hour)\n",
    "    print(f\"This is your gross pay: ${gross_pay}!\")"
   ]
  },
  {
   "cell_type": "markdown",
   "metadata": {},
   "source": [
    "Q&A 3. Assume that we execute the following assignment statements: width = 14, height = 8. For each of the following expressions, write the value of the expression and the type (of the value of the expression).\n",
    "a) width//2 b) width/2.0 c) height/3 d) 1 + 2 * 5"
   ]
  },
  {
   "cell_type": "code",
   "execution_count": 3,
   "metadata": {
    "scrolled": true
   },
   "outputs": [
    {
     "name": "stdout",
     "output_type": "stream",
     "text": [
      "1. 7 is the result of width//2, and its type is <class 'int'>\n",
      "2. 7.0 is the result of width/2, and its type is <class 'float'>\n",
      "3. 2.67 is the result of height/3, and its type is <class 'float'>\n",
      "4. 11 is the result of 1 + 2 * 5, and its type is <class 'int'>\n"
     ]
    }
   ],
   "source": [
    "width = 14\n",
    "height = 8\n",
    "a = width//2\n",
    "print(f\"1. {a} is the result of width//2, and its type is {type(a)}\")\n",
    "b = width/2\n",
    "print(f\"2. {b} is the result of width/2, and its type is {type(b)}\")\n",
    "c = height/3\n",
    "c = round(c,2)\n",
    "print(f\"3. {c} is the result of height/3, and its type is {type(c)}\")\n",
    "d =  1 + 2 * 5\n",
    "print(f\"4. {d} is the result of 1 + 2 * 5, and its type is {type(d)}\")"
   ]
  },
  {
   "cell_type": "markdown",
   "metadata": {},
   "source": [
    "Q&A 4. Write a program which prompts the user for a Celsius temperature, convert the temperature to Fahrenheit, and print out the convertd temperature."
   ]
  },
  {
   "cell_type": "code",
   "execution_count": 8,
   "metadata": {},
   "outputs": [
    {
     "name": "stdout",
     "output_type": "stream",
     "text": [
      "\n",
      "Please enter the degree in Celsius: 37\n",
      "37 in Celsius is equal to 98.6 in Farenheit\n"
     ]
    }
   ],
   "source": [
    "prompt = \"\\nPlease enter the degree in Celsius: \"\n",
    "C_degree = int(input(prompt))\n",
    "F_degree = C_degree * (9/5) + 32\n",
    "F_degree = round(F_degree,2)\n",
    "print(f\"{C_degree} in Celsius is equal to {F_degree} in Farenheit\")"
   ]
  },
  {
   "cell_type": "markdown",
   "metadata": {},
   "source": [
    "Q&A 5. Rewrite your pay computation to give the employee 1.5 times the hourly rate for hours worked above 40 hours."
   ]
  },
  {
   "cell_type": "code",
   "execution_count": 10,
   "metadata": {},
   "outputs": [
    {
     "name": "stdout",
     "output_type": "stream",
     "text": [
      "\n",
      "Please enter your worked hours: 10.25\n",
      "\n",
      "Please enter your worked hour rate: 7.5\n",
      "$76.875 is your gross pay.\n"
     ]
    }
   ],
   "source": [
    "prompt1 = \"\\nPlease enter your worked hours: \"\n",
    "hours = float(input(prompt1))\n",
    "prompt2 = \"\\nPlease enter your worked hour rate: \"\n",
    "rate = float(input(prompt2))\n",
    "if hours > 40:\n",
    "    Pay = (hours - 40)*1.5*(rate) + (40 * rate)\n",
    "    print(f\"${Pay} is your gross pay.\")\n",
    "else:\n",
    "    Pay = (hours)* rate\n",
    "    print(f\"${Pay} is your gross pay.\")"
   ]
  },
  {
   "cell_type": "markdown",
   "metadata": {},
   "source": [
    "Q&A 6. Write a program which repeatedly reads numbers until the user enters ‘done’. Once ‘done’ is entered, print out the sum, count, and average of the numbers. If the user enters anything other than a number, detect their mistake using try and except and print an error message and skip to the next number."
   ]
  },
  {
   "cell_type": "code",
   "execution_count": 23,
   "metadata": {},
   "outputs": [
    {
     "name": "stdout",
     "output_type": "stream",
     "text": [
      "Enter a number: 4\n",
      "Enter a number: e\n",
      "Invalid input.\n",
      "Enter a number: 5\n",
      "Enter a number: 1\n",
      "Enter a number: done\n",
      "These are the results of your inputs: sum = 10.0, count = 3, average = 3.33\n"
     ]
    }
   ],
   "source": [
    "sum = 0\n",
    "count = 0\n",
    "average = 0\n",
    "while True:\n",
    "    try:\n",
    "        num = input(\"Enter a number: \")\n",
    "        if num == 'done':\n",
    "            break\n",
    "        val = float(num)\n",
    "        sum = val + sum\n",
    "        count = count + 1\n",
    "        average = sum / count\n",
    "    except:\n",
    "        print(\"Invalid input.\")\n",
    "print(f'These are the results of your inputs: sum = {sum}, count = {count}, average = {round(average,2)}')"
   ]
  },
  {
   "cell_type": "markdown",
   "metadata": {},
   "source": [
    "Q&A 7. Rewrite your pay program using try and except so that your program handles non-numeric input gracefully by printing a message and exiting the program."
   ]
  },
  {
   "cell_type": "code",
   "execution_count": 12,
   "metadata": {},
   "outputs": [
    {
     "name": "stdout",
     "output_type": "stream",
     "text": [
      "\n",
      "Please enter your worked hours: 50\n",
      "\n",
      "Please enter your worked hour rate: 20\n",
      "$1100.0 is your gross pay.\n"
     ]
    }
   ],
   "source": [
    "try:\n",
    "    prompt1 = \"\\nPlease enter your worked hours: \"\n",
    "    hours = float(input(prompt1))\n",
    "    prompt2 = \"\\nPlease enter your worked hour rate: \"\n",
    "    rate = float(input(prompt2))\n",
    "    if hours > 40:\n",
    "        Pay = (hours - 40)*1.5*(rate) + (40 * rate)\n",
    "        print(f\"${Pay} is your gross pay.\")\n",
    "    else:\n",
    "        Pay = (hours)* rate\n",
    "        print(f\"${Pay} is your gross pay.\")\n",
    "except:\n",
    "    print('Error, please enter numeric number.')"
   ]
  },
  {
   "cell_type": "markdown",
   "metadata": {},
   "source": [
    "Q&A 8. Write a program to prompt for a score between 0.0 and 1.0. If the score is out of range, print an error message. If the score is between 0.0 and 1.0, print a grade using the following table: \n",
    "score : =1, >=0.9,>=0.8,>=0.7,>=0.6,<0.6\n",
    "grade:perfect, A, B, C, D, F respectively"
   ]
  },
  {
   "cell_type": "code",
   "execution_count": null,
   "metadata": {},
   "outputs": [],
   "source": [
    "try:\n",
    "    score = input('Enter score: ')\n",
    "    score = float(score)\n",
    "    if score == 1.0:\n",
    "        print('Congrats! This is a perfect score.')\n",
    "    elif score >= 0.9 and score < 1.0:\n",
    "        print('A')\n",
    "    elif score >= 0.8 and score < 0.9:\n",
    "        print('B')\n",
    "    elif score >= 0.7 and score < 0.8:\n",
    "        print('C')\n",
    "    elif score >= 0.6 and score < 0.7:\n",
    "        print('D')\n",
    "    elif score < 0.6 and score >= 0.0:\n",
    "        print('F')\n",
    "    else:\n",
    "        print('Out of range')\n",
    "except:\n",
    "    print('Error,please try again.')"
   ]
  },
  {
   "cell_type": "markdown",
   "metadata": {},
   "source": [
    "Q&A 9. Rewrite your pay computation with time-and-a-half for over- time and create a function called computepay which takes two parameters (hours and rate)."
   ]
  },
  {
   "cell_type": "code",
   "execution_count": 22,
   "metadata": {},
   "outputs": [
    {
     "data": {
      "text/plain": [
       "550.0"
      ]
     },
     "execution_count": 22,
     "metadata": {},
     "output_type": "execute_result"
    }
   ],
   "source": [
    "def computepay(hours,rate):\n",
    "    hours = float(hours)\n",
    "    rate = float(rate)\n",
    "    if hours > 40:\n",
    "        pay = (hours - 40)*1.5*(rate) + (40 * rate)\n",
    "        return(pay)\n",
    "    else:\n",
    "        pay = hours * rate\n",
    "        return(pay)\n",
    "    \n",
    "computepay(50,10)"
   ]
  },
  {
   "cell_type": "markdown",
   "metadata": {},
   "source": [
    "Q&A 10. Rewrite the grade program from the previous chapter using a function called computegrade that takes a score as its parameter and returns a grade as a string."
   ]
  },
  {
   "cell_type": "code",
   "execution_count": 20,
   "metadata": {},
   "outputs": [
    {
     "name": "stdout",
     "output_type": "stream",
     "text": [
      "Out of range\n"
     ]
    }
   ],
   "source": [
    "def computegrade(score):\n",
    "    score = float(score)\n",
    "    if score >=0.9 and score <= 1.0:\n",
    "        print('A')\n",
    "    elif score >=0.8 and score <0.9:\n",
    "        print('B')\n",
    "    elif score >=0.7 and score < 0.8:\n",
    "        print('C')\n",
    "    elif score >=0.6 and score <0.7:\n",
    "        print('D')\n",
    "    elif score <0.6 and score >=0.0:\n",
    "        print('F')\n",
    "    else:\n",
    "        print('Out of range')\n",
    "computegrade(5)   "
   ]
  },
  {
   "cell_type": "markdown",
   "metadata": {},
   "source": [
    "Q&A 11. Write a program which will find all such numbers which are divisible by 7 but are not a multiple of 5,between 100 and 220 (both included).\n",
    "The numbers obtained should be printed in a comma-separated sequence on a single line."
   ]
  },
  {
   "cell_type": "code",
   "execution_count": 13,
   "metadata": {},
   "outputs": [
    {
     "name": "stdout",
     "output_type": "stream",
     "text": [
      "[112, 119, 126, 133, 147, 154, 161, 168, 182, 189, 196, 203, 217]\n"
     ]
    }
   ],
   "source": [
    "lst = []\n",
    "for i in range(100,221):\n",
    "    if i%7 == 0 and i%5 != 0:\n",
    "        lst.append(i)\n",
    "print(lst)"
   ]
  },
  {
   "cell_type": "markdown",
   "metadata": {},
   "source": [
    "Q&A 12. With a given integral number n, write a program to generate a dictionary that contains (i, i*i) such that is an integral number between 1 and n (both included), and then the program should print the dictionary.Suppose the following input is supplied to the program:8, Then, the output should be:\n",
    "{1: 1, 2: 4, 3: 9, 4: 16, 5: 25, 6: 36, 7: 49, 8: 64}"
   ]
  },
  {
   "cell_type": "code",
   "execution_count": 13,
   "metadata": {},
   "outputs": [
    {
     "name": "stdout",
     "output_type": "stream",
     "text": [
      "Enter a number: 8\n",
      "{1: 1, 2: 4, 3: 9, 4: 16, 5: 25, 6: 36, 7: 49, 8: 64}\n"
     ]
    }
   ],
   "source": [
    "num = int(input('Enter a number: '))\n",
    "dict = {}\n",
    "for i in range(1,num+1):\n",
    "    dict[i]= i*i\n",
    "print(dict)"
   ]
  },
  {
   "cell_type": "markdown",
   "metadata": {},
   "source": [
    " Q&A 13. Write a program which can compute the factorial of a given numbers.The results should be printed in a comma-separated sequence on a single line.Suppose the following input is supplied to the program:\n",
    "5,then, the output should be: 120"
   ]
  },
  {
   "cell_type": "code",
   "execution_count": 57,
   "metadata": {},
   "outputs": [
    {
     "name": "stdout",
     "output_type": "stream",
     "text": [
      "Enter a number: 7\n",
      "5040\n"
     ]
    }
   ],
   "source": [
    "# using a for loop to loop through the range of a given number\n",
    "n = int(input('Enter a number: '))\n",
    "num = 1\n",
    "for i in range(1, n+1):\n",
    "    num = num * i\n",
    "print(num)"
   ]
  },
  {
   "cell_type": "code",
   "execution_count": 58,
   "metadata": {},
   "outputs": [
    {
     "name": "stdout",
     "output_type": "stream",
     "text": [
      "Enter number: 7\n",
      "5040\n"
     ]
    }
   ],
   "source": [
    "# or create a function to compute the factorial\n",
    "def fact(num):\n",
    "    for i in range(1,num+1):\n",
    "        if num == 1:\n",
    "            return 1\n",
    "        else:\n",
    "            return num*fact(num-1)\n",
    "num = int(input('Enter number: '))\n",
    "print(fact(num))"
   ]
  },
  {
   "cell_type": "code",
   "execution_count": 59,
   "metadata": {},
   "outputs": [
    {
     "name": "stdout",
     "output_type": "stream",
     "text": [
      "5040\n"
     ]
    }
   ],
   "source": [
    "# or using .factorial() method to print out the result\n",
    "import math\n",
    "print(math.factorial(7))"
   ]
  },
  {
   "cell_type": "markdown",
   "metadata": {},
   "source": [
    "Q&A 14.Use a list comprehension to square each odd number in a list.\n",
    "The list is input by a sequence of comma-separated numbers.\n",
    "Suppose the following input is supplied to the program:\n",
    "1,2,3,4,5,6,7,8,9\n",
    "Then, the output should be:\n",
    "1,9,25,49,81"
   ]
  },
  {
   "cell_type": "code",
   "execution_count": 76,
   "metadata": {},
   "outputs": [
    {
     "data": {
      "text/plain": [
       "[1, 9, 25, 49, 81]"
      ]
     },
     "execution_count": 76,
     "metadata": {},
     "output_type": "execute_result"
    }
   ],
   "source": [
    "lst = [1,2,3,4,5,6,7,8,9]\n",
    "new_lst = [x**2 for x in lst if x%2 != 0]\n",
    "new_lst"
   ]
  },
  {
   "cell_type": "markdown",
   "metadata": {},
   "source": [
    "Q&A 15. Write a program that accepts a sentence and calculate the number of upper case letters and lower case letters.\n",
    "Suppose the following input is supplied to the program:\n",
    "Hello World!\n",
    "Then, the output should be:\n",
    "UPPER CASE 1\n",
    "LOWER CASE 8"
   ]
  },
  {
   "cell_type": "code",
   "execution_count": 64,
   "metadata": {},
   "outputs": [
    {
     "name": "stdout",
     "output_type": "stream",
     "text": [
      "Enter a sentence: Good morning America!\n",
      "UPPER CASE: 2\n",
      "LOWER CASE: 16\n"
     ]
    }
   ],
   "source": [
    "st = input('Enter a sentence: ')\n",
    "dict = {'uppercase': 0, 'lowercase':0}\n",
    "for char in st:\n",
    "    if char.isupper():\n",
    "        dict['uppercase'] += 1\n",
    "    elif char.islower():\n",
    "        dict['lowercase'] += 1\n",
    "    else:\n",
    "        pass\n",
    "print('UPPER CASE:', dict['uppercase'])\n",
    "print('LOWER CASE:', dict['lowercase'])"
   ]
  },
  {
   "cell_type": "markdown",
   "metadata": {},
   "source": [
    "Q&A 16. Write a function that can calculate square value of number."
   ]
  },
  {
   "cell_type": "code",
   "execution_count": 9,
   "metadata": {},
   "outputs": [
    {
     "name": "stdout",
     "output_type": "stream",
     "text": [
      "Square of 6 is: 36\n",
      "Square of 9 is: 81\n"
     ]
    }
   ],
   "source": [
    "def square(num):\n",
    "    return num ** 2\n",
    "\n",
    "print(f'Square of 6 is: {square(6)}')\n",
    "print(f'Square of 9 is: {square(9)}')"
   ]
  },
  {
   "cell_type": "markdown",
   "metadata": {},
   "source": [
    "Q&A 17. Define a function that can compute the sum of two numbers."
   ]
  },
  {
   "cell_type": "code",
   "execution_count": 10,
   "metadata": {},
   "outputs": [
    {
     "name": "stdout",
     "output_type": "stream",
     "text": [
      "22\n",
      "10.0\n"
     ]
    }
   ],
   "source": [
    "def sumfunction(num1,num2):\n",
    "    return num1 + num2\n",
    "print(sumfunction(10,12))\n",
    "print(sumfunction(4.5,5.5))"
   ]
  },
  {
   "cell_type": "markdown",
   "metadata": {},
   "source": [
    "Q&A 18. Write a function that can print a dictionary where the keys are numbers between 1 and 10 included and the values are the square of the keys."
   ]
  },
  {
   "cell_type": "code",
   "execution_count": 12,
   "metadata": {},
   "outputs": [
    {
     "data": {
      "text/plain": [
       "{1: 1, 2: 4, 3: 9, 4: 16, 5: 25, 6: 36, 7: 49, 8: 64, 9: 81, 10: 100}"
      ]
     },
     "execution_count": 12,
     "metadata": {},
     "output_type": "execute_result"
    }
   ],
   "source": [
    "def my_dict():\n",
    "    d = dict()\n",
    "    for i in range(1,11):\n",
    "        d[i]= i**2\n",
    "    for (k,v) in d.items():\n",
    "        return d\n",
    "my_dict()"
   ]
  },
  {
   "cell_type": "markdown",
   "metadata": {},
   "source": [
    "Q&A 19. Define a function that can generate a list where the values are the square of number between 1 and 10 included."
   ]
  },
  {
   "cell_type": "code",
   "execution_count": 25,
   "metadata": {},
   "outputs": [
    {
     "name": "stdout",
     "output_type": "stream",
     "text": [
      "[1, 4, 9, 16, 25, 36, 49, 64, 81, 100]\n"
     ]
    }
   ],
   "source": [
    "# first solution: creating a function\n",
    "def my_list():\n",
    "    lst = []\n",
    "    for i in range(1,11):\n",
    "        lst.append(i**2)\n",
    "    print(lst)\n",
    "my_list()"
   ]
  },
  {
   "cell_type": "code",
   "execution_count": 14,
   "metadata": {},
   "outputs": [
    {
     "data": {
      "text/plain": [
       "[1, 4, 9, 16, 25, 36, 49, 64, 81, 100]"
      ]
     },
     "execution_count": 14,
     "metadata": {},
     "output_type": "execute_result"
    }
   ],
   "source": [
    "# second solution: using list comprehension\n",
    "def my_list():\n",
    "    return [x**2 for x in range(1,11)]\n",
    "\n",
    "my_list()"
   ]
  },
  {
   "cell_type": "markdown",
   "metadata": {},
   "source": [
    "Q&A 20. Write a program to generate and print another tuple whose values are even numbers in the given tuple (1,2,3,4,5,6,7,8,9,10)."
   ]
  },
  {
   "cell_type": "code",
   "execution_count": 43,
   "metadata": {},
   "outputs": [
    {
     "name": "stdout",
     "output_type": "stream",
     "text": [
      "(2, 4, 6, 8, 10)\n"
     ]
    }
   ],
   "source": [
    "my_tuple = (1,2,3,4,5,6,7,8,9,10)\n",
    "# convert tuple to list to be easy to extract even numbers\n",
    "lst = list(my_tuple)\n",
    "# Create empty list that whole even numbers\n",
    "even_lst = []\n",
    "# Loop through the list\n",
    "for i in lst:\n",
    "    if i%2 == 0:\n",
    "        even_lst.append(i)\n",
    "# Convert even list to even tuple\n",
    "even_tuple = tuple(even_lst)  \n",
    "print(even_tuple)"
   ]
  },
  {
   "cell_type": "markdown",
   "metadata": {},
   "source": [
    "    Q&A 21. Take a list, say for example this one: a = [1, 1, 2, 3, 5, 8, 13, 21, 34, 55, 89],and:\n",
    "       1) write a program that prints out all the elements of the list that are less than 5.\n",
    "       2) Instead of printing the elements one by one, make a new list that has all the elements less than 5 from this list in it and print out this new list.\n",
    "       3) Write this in one line of Python."
   ]
  },
  {
   "cell_type": "code",
   "execution_count": 27,
   "metadata": {},
   "outputs": [
    {
     "name": "stdout",
     "output_type": "stream",
     "text": [
      "1\n",
      "1\n",
      "2\n",
      "3\n",
      "[1, 1, 2, 3]\n",
      "[1, 1, 2, 3]\n"
     ]
    }
   ],
   "source": [
    "a = [1, 1, 2, 3, 5, 8, 13, 21, 34, 55, 89]\n",
    "# answer question1:\n",
    "for num in a:\n",
    "    if num < 5: \n",
    "        print(num)\n",
    "# answer question 2:\n",
    "new_a = []\n",
    "for num in a:\n",
    "    if num < 5:\n",
    "        new_a.append(num)\n",
    "print(new_a)\n",
    "# answer question 3:\n",
    "print([num for num in a if num <5])"
   ]
  },
  {
   "cell_type": "markdown",
   "metadata": {},
   "source": [
    "    Q&A 22: Create a program that asks the user for a number and then prints out a list of all the divisors of that number. (If you don’t know what a divisor is, it is a number that divides evenly into another number. For example, 13 is a divisor of 26 because 26 / 13 has no remainder.)"
   ]
  },
  {
   "cell_type": "code",
   "execution_count": 227,
   "metadata": {},
   "outputs": [
    {
     "name": "stdout",
     "output_type": "stream",
     "text": [
      "Enter a number: 78\n",
      "[1, 2, 3, 6, 13, 26, 39, 78]\n",
      "[1, 2, 3, 6, 13, 26, 39, 78]\n"
     ]
    }
   ],
   "source": [
    "num = input('Enter a number: ')\n",
    "num = int(num)\n",
    "lst = []\n",
    "for i in range(1,num+1):\n",
    "    if num%i == 0:\n",
    "        lst.append(i)\n",
    "print(lst)\n",
    "print([i for i in range(1,num+1) if num%i == 0])"
   ]
  },
  {
   "cell_type": "markdown",
   "metadata": {},
   "source": [
    "    Q&A 23: Take two lists, say for example these two:\n",
    "    a = [1, 1, 2, 3, 5, 8, 13, 21, 34, 55, 89]\n",
    "    b = [1, 2, 3, 4, 5, 6, 7, 8, 9, 10, 11, 12, 13]\n",
    "    1) Write a program that returns a list that contains only the elements that are common between the lists (without duplicates). Make sure your program works on two lists of different sizes.\n",
    "    2) Randomly generate two lists to test this\n",
    "    3) Write this in one line of Python"
   ]
  },
  {
   "cell_type": "code",
   "execution_count": 263,
   "metadata": {
    "scrolled": true
   },
   "outputs": [
    {
     "name": "stdout",
     "output_type": "stream",
     "text": [
      "[1, 2, 3, 5, 8, 13]\n",
      "[1, 2, 3, 5, 8, 13]\n",
      "Enter number to check: 22\n",
      "[]\n",
      "[43, 25, 9, 18, 46]\n"
     ]
    }
   ],
   "source": [
    "# answer question 1:\n",
    "a = [1, 1, 2, 3, 5, 8, 13, 21, 34, 55, 89]\n",
    "b = [1, 2, 3, 4, 5, 6, 7, 8, 9, 10, 11, 12, 13]\n",
    "c = []\n",
    "for i in a:\n",
    "    if i in b:\n",
    "        c.append(i)\n",
    "# Method to remove duplicate in list: 1) dict.fromkeys() and 2) set()\n",
    "print(list(dict.fromkeys(c)))\n",
    "print(list(set(c)))\n",
    "# answer question 2:\n",
    "# import random library\n",
    "import random\n",
    "# randomly generate two set of lists\n",
    "lst_1 = random.sample(range(50),15)\n",
    "lst_2 = random.sample(range(70),20)\n",
    "# create new empty list to place common elements in both lists\n",
    "new_lst = []\n",
    "# enter input number to check\n",
    "num = input('Enter number to check: ')\n",
    "if num in lst_1:\n",
    "    if num in lst_2:\n",
    "        new_lst.append(num)\n",
    "    else:\n",
    "        pass\n",
    "print(new_lst)\n",
    "# Answer question 3:\n",
    "print([num for num in lst_1 if num in lst_2])"
   ]
  },
  {
   "cell_type": "markdown",
   "metadata": {},
   "source": [
    "    Q&A 24: Ask the user for a string and print out whether this string is a palindrome or not. (A palindrome is a string that reads the same forwards and backwards.)"
   ]
  },
  {
   "cell_type": "code",
   "execution_count": 15,
   "metadata": {},
   "outputs": [
    {
     "name": "stdout",
     "output_type": "stream",
     "text": [
      "Type word to check: civic\n",
      "True\n"
     ]
    }
   ],
   "source": [
    "my_str = input('Type word to check: ')\n",
    "# Compare original string (read forwards) with its reversed string (read backwards):\n",
    "if my_str[:] == my_str[::-1]:\n",
    "    print(True)\n",
    "else:\n",
    "    print(False)"
   ]
  },
  {
   "cell_type": "code",
   "execution_count": 7,
   "metadata": {},
   "outputs": [
    {
     "name": "stdout",
     "output_type": "stream",
     "text": [
      "Type word to check for Palindrome: madam\n",
      "True\n"
     ]
    }
   ],
   "source": [
    "def is_palindrome(s):\n",
    "    if s[:]== s[::-1]:\n",
    "        print(True)\n",
    "    else:\n",
    "        print(False)\n",
    "inpt = input('Type word to check for Palindrome: ')\n",
    "is_palindrome(inpt)"
   ]
  },
  {
   "cell_type": "markdown",
   "metadata": {},
   "source": [
    "    Q&A 25: Given a list saved in a variable: a = [1, 4, 9, 16, 25, 36, 49, 64, 81, 100]. Write one line of Python that takes this list a and makes a new list that has only the even elements of this list in it."
   ]
  },
  {
   "cell_type": "code",
   "execution_count": 104,
   "metadata": {},
   "outputs": [
    {
     "name": "stdout",
     "output_type": "stream",
     "text": [
      "[4, 16, 36, 64, 100]\n"
     ]
    }
   ],
   "source": [
    "a = [1, 4, 9, 16, 25, 36, 49, 64, 81, 100]\n",
    "print([num for num in a if num%2 == 0])"
   ]
  },
  {
   "cell_type": "markdown",
   "metadata": {},
   "source": [
    "    Q&A 26: Generate a random number between 1 and 9 (including 1 and 9). Ask the user to guess the number, then tell them whether they guessed too low, too high, or exactly right."
   ]
  },
  {
   "cell_type": "code",
   "execution_count": 157,
   "metadata": {},
   "outputs": [
    {
     "name": "stdout",
     "output_type": "stream",
     "text": [
      "Enter a number: 4\n",
      "You're exactly right.\n"
     ]
    }
   ],
   "source": [
    "# import random library\n",
    "import random\n",
    "# Generate a random number between 1 and 9 inclusive\n",
    "a = random.randint(1,9)\n",
    "# Enter number of your choice\n",
    "inpt = int(input('Enter a number: '))\n",
    "# Compare generated random number with the number of your choice.\n",
    "if a == inpt:\n",
    "    print(\"You're exactly right.\")\n",
    "elif a > inpt:\n",
    "    print(\"Your number is too low.\")\n",
    "else:\n",
    "    print(\"Your number is too hight \")"
   ]
  },
  {
   "cell_type": "markdown",
   "metadata": {},
   "source": [
    "    Q&A 27: Write a program that randomly generates two list and return only the common elements between the list (without duplicates) using at least one list comprehension."
   ]
  },
  {
   "cell_type": "code",
   "execution_count": 193,
   "metadata": {},
   "outputs": [
    {
     "name": "stdout",
     "output_type": "stream",
     "text": [
      "[3, 67, 53, 35, 10, 43, 80, 20, 47, 2]\n",
      "[2, 19, 7, 15, 14, 20, 9]\n",
      "[2, 20]\n",
      "[20, 2]\n"
     ]
    }
   ],
   "source": [
    "# import random library\n",
    "import random\n",
    "# generate random first list of 10 numbers from 0 to 99\n",
    "lst_1 = random.sample(range(100),10)\n",
    "# generate random second list of 7 numbers from 1 to 20\n",
    "lst_2 = random.sample(range(1,21),7)\n",
    "\n",
    "print(lst_1)\n",
    "print(lst_2)\n",
    "\n",
    "new_lst = []\n",
    "for i in lst_1:\n",
    "    if i in lst_2:\n",
    "        new_lst.append(i)\n",
    "    else:\n",
    "        pass\n",
    "\n",
    "# print distinct common numbers in both ramdom lists without duplicates\n",
    "print(list(set(new_lst)))\n",
    "\n",
    "# or use list comprehension\n",
    "print([i for i in lst_1 if i in lst_2])"
   ]
  },
  {
   "cell_type": "markdown",
   "metadata": {},
   "source": [
    "    Q&A 28: Ask the user for a number and determine whether the number is prime or not. (For those who have forgotten, a prime number is a number that has no divisors.)"
   ]
  },
  {
   "cell_type": "code",
   "execution_count": 2,
   "metadata": {},
   "outputs": [
    {
     "name": "stdout",
     "output_type": "stream",
     "text": [
      "[2, 3, 6, 9]\n",
      "4\n"
     ]
    }
   ],
   "source": [
    "# given number 18\n",
    "# a  is a list of divisors of divident num, if the list has one ore more divisors\n",
    "# the number can't be a prime\n",
    "num = 18\n",
    "a =[x for x in range(2,num) if num%x == 0]\n",
    "print(a)\n",
    "print(len(a))"
   ]
  },
  {
   "cell_type": "code",
   "execution_count": 1,
   "metadata": {},
   "outputs": [
    {
     "name": "stdout",
     "output_type": "stream",
     "text": [
      "[]\n",
      "0\n"
     ]
    }
   ],
   "source": [
    "# given number 17\n",
    "# a  is a list of divisors of divident num, if the list is empty ~ no divisors\n",
    "# the list empty ~ its len(a)== 0\n",
    "# the number is a prime\n",
    "num = 17\n",
    "a =[x for x in range(2,num) if num%x == 0]\n",
    "print(a)\n",
    "print(len(a))"
   ]
  },
  {
   "cell_type": "code",
   "execution_count": 3,
   "metadata": {},
   "outputs": [
    {
     "name": "stdout",
     "output_type": "stream",
     "text": [
      "Enter a number: 19\n",
      "Prime\n"
     ]
    }
   ],
   "source": [
    "# enter any random number\n",
    "num = int(input('Enter a number: '))\n",
    "# obtain a list of numbers that is betwwen 2 and num-1, inclusive, and are divisors of nums\n",
    "a =[x for x in range(2,num) if num%x == 0]\n",
    "def is_prime(n):\n",
    "    if num >1: # condition for num being a prime\n",
    "        if len(a) == 0: # condition for num being a prime number, as examples above\n",
    "            print('Prime')\n",
    "        else:\n",
    "            print('Not Prime')\n",
    "    else: # condition if num <= 1: these numbers aren't prime numbers\n",
    "        print('Not Prime')\n",
    "is_prime(num)"
   ]
  },
  {
   "cell_type": "markdown",
   "metadata": {},
   "source": [
    "    Q&A 29: Write a program that takes a list of numbers (for example, a = [5, 10, 15, 20, 25]) and makes a new list of only the first and last elements of the given list. For practice, write this code inside a function."
   ]
  },
  {
   "cell_type": "code",
   "execution_count": 2,
   "metadata": {},
   "outputs": [
    {
     "name": "stdout",
     "output_type": "stream",
     "text": [
      "[5, 25]\n",
      "[5, 25]\n"
     ]
    }
   ],
   "source": [
    "# A list is given\n",
    "lst = [5,10,15,20,25]\n",
    "# Create an empty list that can be used to store element that satisfies the conditions\n",
    "new_lst = []\n",
    "# Loop through the list\n",
    "for i in lst:\n",
    "    if i == lst[0]:   # If condition is met, append the element to the empty list\n",
    "        new_lst.append(i)\n",
    "    elif i == lst[-1]: # If a condition is met, append it to the empty list above\n",
    "        new_lst.append(i)\n",
    "    else: # If conditions aren't met, ignore them.\n",
    "        pass\n",
    "print(new_lst)\n",
    "# Or use list comprehension. It is less messy and just a one line of code\n",
    "print([x for x in lst if x == lst[0] or x == lst[-1]])"
   ]
  },
  {
   "cell_type": "code",
   "execution_count": 3,
   "metadata": {},
   "outputs": [
    {
     "name": "stdout",
     "output_type": "stream",
     "text": [
      "[1, 9]\n",
      "[12, 89]\n",
      "['kiwi', 'pineapple']\n"
     ]
    }
   ],
   "source": [
    "# Now we write a function named first_last_of_list using the code above\n",
    "def first_last_of_list(lst):\n",
    "    return [x for x in lst if x == lst[0] or x == lst[-1]]\n",
    "\n",
    "print(first_last_of_list([1,2,3,4,9]))\n",
    "print(first_last_of_list([12,3,6,8,32,89]))\n",
    "print(first_last_of_list(['kiwi','orange','apple','pineapple']))"
   ]
  },
  {
   "cell_type": "markdown",
   "metadata": {},
   "source": [
    "    Q&A 30: Write a program that asks the user how many Fibonnaci numbers to generate and then generates them. Take this opportunity to think about how you can use functions. Make sure to ask the user to enter the number of numbers in the sequence to generate.(Hint: The Fibonnaci seqence is a sequence of numbers where the next number in the sequence is the sum of the previous two numbers in the sequence. The sequence looks like this: 1, 1, 2, 3, 5, 8, 13, …)"
   ]
  },
  {
   "cell_type": "code",
   "execution_count": 74,
   "metadata": {},
   "outputs": [
    {
     "name": "stdout",
     "output_type": "stream",
     "text": [
      "Enter the number of Fibonacci numbers you want to generate: 11\n",
      "[1, 1, 2, 3, 5, 8, 13, 21, 34, 55, 89]\n"
     ]
    }
   ],
   "source": [
    "def gen_fib():\n",
    "    # our number has to be an integer\n",
    "    num = int(input('Enter the number of Fibonacci numbers you want to generate: '))\n",
    "    if num == 1: # we force the first number(i =0) in the fibo list to be 1\n",
    "        fib = [1]\n",
    "    if num == 2: # we force the second number(i=1) in the fibo list to be 1\n",
    "        fib = [1,1]\n",
    "    i = 1        # the while loop starts at i =1\n",
    "    if num > 2:  # at num >2 ,the fibo list = [1,1]; and the while loop starts from here\n",
    "        fib = [1,1]\n",
    "        while i < num-1: # the condition when the while loop stops\n",
    "                         # if i< num, then with the math formula, we'll end up with n+1 number\n",
    "                         # so it has to be i< num -1\n",
    "            fib.append(fib[i]+fib[i-1])\n",
    "            i += 1\n",
    "    return fib\n",
    "print(gen_fib())"
   ]
  },
  {
   "cell_type": "markdown",
   "metadata": {},
   "source": [
    "    Q&A 31: Write a program (function!) that takes a list and returns a new list that contains all the elements of the first list minus all the duplicates.Write two different functions to do this - one using a loop and constructing a list, and another using sets."
   ]
  },
  {
   "cell_type": "code",
   "execution_count": 77,
   "metadata": {},
   "outputs": [
    {
     "data": {
      "text/plain": [
       "[1, 2, 3, 4, 5, 6]"
      ]
     },
     "execution_count": 77,
     "metadata": {},
     "output_type": "execute_result"
    }
   ],
   "source": [
    "# A set is a collection of elements where no element is repeated.\n",
    "# use set to remove duplicated elements\n",
    "def remove_duplicates(lst):\n",
    "    return [x for x in list(set(lst))]\n",
    "remove_duplicates([1,1,2,3,4,4,5, 6,6])"
   ]
  },
  {
   "cell_type": "code",
   "execution_count": 1,
   "metadata": {},
   "outputs": [
    {
     "data": {
      "text/plain": [
       "[1, 2, 3, 4, 5, 6]"
      ]
     },
     "execution_count": 1,
     "metadata": {},
     "output_type": "execute_result"
    }
   ],
   "source": [
    "# Or use dict.fromkeys() to remove duplicates since a dictionary doesn't allow duplicated keys\n",
    "def remove_dup(lst):\n",
    "    return [x for x in list(dict.fromkeys(lst))]\n",
    "remove_dup([1,1,2,3,4,4,5,6,6])"
   ]
  },
  {
   "cell_type": "markdown",
   "metadata": {},
   "source": [
    "    Q&A 32: Write a program (using functions!) that asks the user for a long string containing multiple words. Print back to the user the same string, except with the words in backwards order. For example, say I type the string: My name is Michele, Then I would see the string: Michele is name My shown back to me."
   ]
  },
  {
   "cell_type": "code",
   "execution_count": 61,
   "metadata": {},
   "outputs": [
    {
     "name": "stdout",
     "output_type": "stream",
     "text": [
      "This is the result after splitting the string:\n",
      " ['Imagine', 'all', 'the', 'people', 'living', 'life', 'in', 'peace'].\n",
      "\n",
      "This is the outcome after reverse the word order:\n",
      " ['peace', 'in', 'life', 'living', 'people', 'the', 'all', 'Imagine'].\n",
      "\n",
      "A string after reverse the order of the words backwards:\n",
      "peace in life living people the all Imagine.\n",
      "\n"
     ]
    }
   ],
   "source": [
    "# Before write the function try to apply string's properties and see how it works\n",
    "# Given a string is a line in 'Imagine' of John Lennon\n",
    "s = 'Imagine all the people living life in peace'\n",
    "# Split the string by word using split method, and then print it out to see the result\n",
    "s = s.split()\n",
    "print(f'This is the result after splitting the string:\\n {s}.\\n')\n",
    "# Reverse the order of separated words using list property. Strings are lists, and print\n",
    "# it out to see the outcome\n",
    "s = s[::-1]\n",
    "print(f'This is the outcome after reverse the word order:\\n {s}.\\n')\n",
    "# Use join method to put words together without comma\n",
    "s = ' '.join(s)\n",
    "print(f'A string after reverse the order of the words backwards:\\n{s}.\\n')"
   ]
  },
  {
   "cell_type": "code",
   "execution_count": 54,
   "metadata": {},
   "outputs": [
    {
     "data": {
      "text/plain": [
       "'country beautiful our to Welcome'"
      ]
     },
     "execution_count": 54,
     "metadata": {},
     "output_type": "execute_result"
    }
   ],
   "source": [
    "# Let write the function to reverse word order by putting together what we've analyzed above\n",
    "def reverse_str(s):\n",
    "    return ' '.join(s.split()[::-1])\n",
    "    \n",
    "reverse_str('Welcome to our beautiful country')"
   ]
  },
  {
   "cell_type": "markdown",
   "metadata": {},
   "source": [
    "    Q&A 33: Write a password generator in Python. Be creative with how you generate passwords - strong passwords have a mix of lowercase letters, uppercase letters, numbers, and symbols. The passwords should be random, generating a new password every time the user asks for a new password. Include your run-time code in a main method."
   ]
  },
  {
   "cell_type": "code",
   "execution_count": 26,
   "metadata": {},
   "outputs": [
    {
     "name": "stdout",
     "output_type": "stream",
     "text": [
      "Outcome of random.random(): 0.38835530509962723\n",
      "Outcome of random.sample(range(a),b): [9, 3, 11, 5, 17]\n",
      "Outcome of random.randint(a,b): 1\n",
      "Outcome of random.uniform(a,b): 2.928765932691343\n",
      "Outcome of random.randrange(a): 5\n",
      "Outcome of random.choice(seq): 6\n"
     ]
    }
   ],
   "source": [
    "## Review random methods/modules\n",
    "# 1) random.random() return a random floating point number in the range [0.0,1.0)\n",
    "import random\n",
    "b = random.random()\n",
    "print(f'Outcome of random.random(): {b}')\n",
    "# 2) random.sample(range(20),10) return a list of 10 random integer numbers\n",
    "# in the range [0,19]\n",
    "c = random.sample(range(20),10)\n",
    "print(f'Outcome of random.sample(range(a),b): {c}')\n",
    "# 3) random.randint(1,8) return an integer number in the range [1,10]\n",
    "d = random.randint(1,)\n",
    "print(f'Outcome of random.randint(a,b): {d}')\n",
    "# 4) random.uniform(a,b) return a random floating point number n such that\n",
    "# a <= n <= b for  a <= b  and b <= n <=a for b <= a. The endpoint b may or may\n",
    "# not included in the range depending on floating-point rounding\n",
    "e = random.uniform(2,6)\n",
    "print(f'Outcome of random.uniform(a,b): {e}')\n",
    "# 5) random.randrange\n",
    "f = random.randrange(10)\n",
    "print(f'Outcome of random.randrange(a): {f}')\n",
    "# 6) random.choice\n",
    "g = random.choice(str(6)) # return a random element from a non-empty seq\n",
    "print(f'Outcome of random.choice(seq): {g}')"
   ]
  },
  {
   "cell_type": "code",
   "execution_count": null,
   "metadata": {},
   "outputs": [],
   "source": [
    "# Create function named gen_pw that includes the size, the letters both upper and lowercase, digits, and punctuation\n",
    "import random\n",
    "import string\n",
    "def gen_pw(size = 10,chars=string.ascii_letters +string.digits): #+ string.punctuation):\n",
    "    return ''.join(random.choice(chars) for _ in range(size)) # for _ in range(size): ignore the index\n",
    "print(gen_pw(12))"
   ]
  },
  {
   "cell_type": "markdown",
   "metadata": {},
   "source": [
    "* Q&A 34. Define a function that can accept two strings as inputs and concatenate them, and then print out the result."
   ]
  },
  {
   "cell_type": "code",
   "execution_count": 20,
   "metadata": {},
   "outputs": [
    {
     "name": "stdout",
     "output_type": "stream",
     "text": [
      "Time brings all things to pass.The present is all that counts\n"
     ]
    }
   ],
   "source": [
    "def concat(s1,s2):\n",
    "    print(s1+s2)\n",
    "concat('Time brings all things to pass.','The present is all that counts')"
   ]
  },
  {
   "cell_type": "markdown",
   "metadata": {},
   "source": [
    "    Q&A 35. Create a program that will play the “cows and bulls” game with the user. The game works like this:\n",
    "\n",
    "Randomly generate a 4-digit number. Ask the user to guess a 4-digit number. For every digit that the user guessed correctly in the correct place, they have a “cow”. For every digit the user guessed correctly in the wrong place is a “bull.” Every time the user makes a guess, tell them how many “cows” and “bulls” they have. Once the user guesses the correct number, the game is over. Keep track of the number of guesses the user makes throughout the game and tell the user at the end."
   ]
  },
  {
   "cell_type": "code",
   "execution_count": 1,
   "metadata": {},
   "outputs": [
    {
     "name": "stdout",
     "output_type": "stream",
     "text": [
      "Welcome! Let's play the cowsbulls game!\n",
      "The machine'll generate a 4 digits number, and your job is to guess that number.\n",
      "For every right digit you guess in the right place, you've a cow. If a right digit at a wrong place, you've a bull.\n",
      "If you have 4 cows, you win!\n",
      "Type 'q' to exit.\n",
      "Enter your number: 1000\n",
      "You have 0 cows, and 0 bulls.\n",
      "Your guess isn't right, please try again.\n",
      "Enter your number: 2345\n",
      "You have 0 cows, and 0 bulls.\n",
      "Your guess isn't right, please try again.\n",
      "Enter your number: 6789\n",
      "You have 2 cows, and 0 bulls.\n",
      "Your guess isn't right, please try again.\n",
      "Enter your number: 6700\n",
      "You have 1 cows, and 0 bulls.\n",
      "Your guess isn't right, please try again.\n",
      "Enter your number: 6000\n",
      "You have 0 cows, and 0 bulls.\n",
      "Your guess isn't right, please try again.\n",
      "Enter your number: 6780\n",
      "You have 2 cows, and 0 bulls.\n",
      "Your guess isn't right, please try again.\n",
      "Enter your number: 7788\n",
      "You have 3 cows, and 1 bulls.\n",
      "Your guess isn't right, please try again.\n",
      "Enter your number: 8787\n",
      "You have 3 cows, and 1 bulls.\n",
      "Your guess isn't right, please try again.\n",
      "Enter your number: 8788\n",
      "You have 4 cows, and 0 bulls.\n",
      "You won the game after 9 gueses! The number was 8788.\n"
     ]
    }
   ],
   "source": [
    "# Create function named cows_bulls that takes two arguments:\n",
    "# an automated random number and the player guessed number\n",
    "def cows_bulls(gen_num,guess_num):\n",
    "    cowbull = [0,0] # initiate a list of cow,bull sorce: cowbull[0] for cow and cowbull[1] for bull, starts at [0,0]\n",
    "    for i in range(len(gen_num)): # Loop through the 4 digits of the auto generated number\n",
    "        if guess_num[i] == gen_num[i]: # if the guess number is correct and in the right place (i), cow scores 1\n",
    "            cowbull[0] += 1            # score for cow is add up the next time the player guesses correctly\n",
    "        elif guess_num[i] != gen_num[i]: # if the number is correct, but in the wrong place, bull scores 1\n",
    "            if guess_num[i] in gen_num:\n",
    "                cowbull[1] += 1          # score for bull is add up if the player continue guess right number in wrong place\n",
    "        else:   # this is a condition where the guessed number is incorrect regardless of its position in the number.\n",
    "            pass\n",
    "    return cowbull\n",
    "\n",
    "\n",
    "import random\n",
    "if __name__==\"__main__\":\n",
    "    playing = True       # Start playing the game\n",
    "    gen_num = str(random.randint(1000,9999)) # 4 digits number starts at 1000 and ends at 9999\n",
    "                                             # have to convert int to str in order to indexing\n",
    "    guesses = 0          # initial guess is zero\n",
    "    print(\"Welcome! Let's play the cowsbulls game!\")    # Explain the game protocol\n",
    "    print(\"The machine'll generate a 4 digits number, and your job is to guess that number.\")\n",
    "    print(\"For every right digit you guess in the right place, you've a cow. If a right digit at a wrong place, you've a bull.\")\n",
    "    print(\"If you have 4 cows, you win!\")\n",
    "    print(\"Type 'q' to exit.\")\n",
    "    while playing:       # start a while loop to loop through the 4 digits number\n",
    "        guess_num = input(\"Enter your number: \")  # player enters his guessed number\n",
    "        if guess_num == 'q':                      # he/she can quit the game by typing 'q'\n",
    "            break\n",
    "        cowbull_count = cows_bulls(gen_num,guess_num) # call the cows_bulls function\n",
    "        guesses += 1                                  # record the number of times the player guesses\n",
    "        print(f\"You have {cowbull_count[0]} cows, and {cowbull_count[1]} bulls.\")\n",
    "        \n",
    "        if cowbull_count[0] == 4: # if the player has 4 cows,\n",
    "            playing = False       # the game stops,\n",
    "            print(f\"You won the game after {guesses} gueses! The number was {gen_num}.\") # The number of guesses, and the number is annouced, \n",
    "            break\n",
    "        else: # if the player doesn't have 4 cows, the game continues untill he win or quit.\n",
    "            print(\"Your guess isn't right, please try again.\") "
   ]
  },
  {
   "cell_type": "markdown",
   "metadata": {},
   "source": [
    "* Q&A 36. Write a function that takes an ordered list of numbers (a list where the elements are in order from smallest to largest) and another number. The function decides whether or not the given number is inside the list and returns (then prints) an appropriate boolean."
   ]
  },
  {
   "cell_type": "code",
   "execution_count": 33,
   "metadata": {},
   "outputs": [
    {
     "name": "stdout",
     "output_type": "stream",
     "text": [
      "False\n",
      "True\n"
     ]
    }
   ],
   "source": [
    "def check_num(ordered_lst,num):\n",
    "    if num in ordered_lst:\n",
    "        return True\n",
    "    else:\n",
    "        return False\n",
    "            \n",
    "print(check_num([1,3,5,7,9],4))\n",
    "print(check_num([1,3,5,7,9],5))"
   ]
  },
  {
   "cell_type": "markdown",
   "metadata": {},
   "source": [
    "* Q&A 37. Implement a function that takes as input three variables,\n",
    "and returns the largest of the three. Do this without using the Python max() function!\n",
    "The goal of this exercise is to think about some internals that Python normally takes care of for us. All you need is some variables and if statements!"
   ]
  },
  {
   "cell_type": "code",
   "execution_count": 7,
   "metadata": {},
   "outputs": [
    {
     "data": {
      "text/plain": [
       "77"
      ]
     },
     "execution_count": 7,
     "metadata": {},
     "output_type": "execute_result"
    }
   ],
   "source": [
    "def maxofThree(a,b,c):\n",
    "    if a>b and a>c:\n",
    "        return a\n",
    "    elif a<b and c<b:\n",
    "        return b\n",
    "    else:\n",
    "        return c\n",
    "    \n",
    "maxofThree(65,34,77)"
   ]
  },
  {
   "cell_type": "markdown",
   "metadata": {},
   "source": [
    "* Q&A 38. Define a function that can accept an integer number as input and print the \"It is an even number\" if the number is even, otherwise print \"It is an odd number\"."
   ]
  },
  {
   "cell_type": "code",
   "execution_count": 25,
   "metadata": {},
   "outputs": [
    {
     "name": "stdout",
     "output_type": "stream",
     "text": [
      "11 is an odd number.\n"
     ]
    }
   ],
   "source": [
    "def odd_even(num):\n",
    "    if num%2 == 0:\n",
    "        print(f\"{num} is an even number.\")\n",
    "    else:\n",
    "        print(f\"{num} is an odd number.\")\n",
    "odd_even(11)"
   ]
  },
  {
   "cell_type": "markdown",
   "metadata": {},
   "source": [
    "* Q&A 39:Write a program that accepts a sentence and calculate the number of letters and digits.\n",
    "Suppose the following input is supplied to the program:\n",
    "hello world! 123\n",
    "Then, the output should be:\n",
    "LETTERS 10\n",
    "DIGITS 3"
   ]
  },
  {
   "cell_type": "code",
   "execution_count": 6,
   "metadata": {},
   "outputs": [
    {
     "name": "stdout",
     "output_type": "stream",
     "text": [
      "Enter your sentence: Welcome to Public Speaking 101!\n",
      "There are 23 letters and 3 digits in this sentence.\n"
     ]
    }
   ],
   "source": [
    "sentence = input(\"Enter your sentence: \")\n",
    "d = {'letters': 0, 'digits':0}\n",
    "for char in sentence:\n",
    "    if char.isalpha():\n",
    "        d['letters']+=1\n",
    "    elif char.isdigit():\n",
    "        d['digits']+= 1\n",
    "    else:\n",
    "        pass\n",
    "print(f\"There are {d['letters']} letters and {d['digits']} digits in this sentence.\")"
   ]
  },
  {
   "cell_type": "markdown",
   "metadata": {},
   "source": [
    "* Q&A 40. Please generate a random float where the value is between 0 and 100 using Python math module."
   ]
  },
  {
   "cell_type": "code",
   "execution_count": 39,
   "metadata": {},
   "outputs": [
    {
     "name": "stdout",
     "output_type": "stream",
     "text": [
      "84.02643369728303\n"
     ]
    }
   ],
   "source": [
    "# Note that random.random() return a random floating number in the range [0,1)\n",
    "# Multiply 100 to have the random float number between 0 & 100\n",
    "import random\n",
    "rd_float = random.random()*100\n",
    "print((rd_float))"
   ]
  },
  {
   "cell_type": "code",
   "execution_count": null,
   "metadata": {},
   "outputs": [],
   "source": []
  },
  {
   "cell_type": "code",
   "execution_count": null,
   "metadata": {},
   "outputs": [],
   "source": []
  }
 ],
 "metadata": {
  "kernelspec": {
   "display_name": "Python 3",
   "language": "python",
   "name": "python3"
  },
  "language_info": {
   "codemirror_mode": {
    "name": "ipython",
    "version": 3
   },
   "file_extension": ".py",
   "mimetype": "text/x-python",
   "name": "python",
   "nbconvert_exporter": "python",
   "pygments_lexer": "ipython3",
   "version": "3.7.4"
  }
 },
 "nbformat": 4,
 "nbformat_minor": 2
}
